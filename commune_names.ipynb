{
 "cells": [
  {
   "cell_type": "code",
   "execution_count": null,
   "id": "86f15e3a",
   "metadata": {},
   "outputs": [],
   "source": [
    "import geopandas as gpd"
   ]
  },
  {
   "cell_type": "code",
   "execution_count": 2,
   "id": "69c45892",
   "metadata": {},
   "outputs": [],
   "source": [
    "# Load your shapefile (replace with your actual file path)\n",
    "gdf = gpd.read_file(\"C:/Users/HP/OneDrive - Université Mohammed VI Polytechnique/Desktop/UM6P/Internship/The Journey/Data/QGIS/data/populaion_commune/populaion_commune.shp\")"
   ]
  },
  {
   "cell_type": "code",
   "execution_count": 3,
   "id": "f28f7475",
   "metadata": {},
   "outputs": [
    {
     "name": "stdout",
     "output_type": "stream",
     "text": [
      "Index(['Code_Commu', 'Code_Provi', 'CODE_REGIO', 'nom', 'Marocains_',\n",
      "       'Etrangers_', 'Populati_1', 'Menages_', 'nom_arabe', 'geometry'],\n",
      "      dtype='object')\n"
     ]
    }
   ],
   "source": [
    "# Preview columns to find the commune name column\n",
    "print(gdf.columns)"
   ]
  },
  {
   "cell_type": "code",
   "execution_count": 5,
   "id": "633cb60d",
   "metadata": {},
   "outputs": [
    {
     "name": "stderr",
     "output_type": "stream",
     "text": [
      "C:\\Users\\HP\\AppData\\Local\\Temp\\ipykernel_24688\\2328595073.py:3: UserWarning: Geometry is in a geographic CRS. Results from 'centroid' are likely incorrect. Use 'GeoSeries.to_crs()' to re-project geometries to a projected CRS before this operation.\n",
      "\n",
      "  gdf['centroid'] = gdf.geometry.centroid\n"
     ]
    }
   ],
   "source": [
    "# Assuming the commune name is in a column called 'NAME'\n",
    "# You can adjust this depending on the actual column name\n",
    "gdf['centroid'] = gdf.geometry.centroid"
   ]
  },
  {
   "cell_type": "code",
   "execution_count": 26,
   "id": "3d838b40",
   "metadata": {},
   "outputs": [],
   "source": [
    "# Extract relevant data\n",
    "communes = gdf[['nom', 'centroid']].copy()\n",
    "communes['latitude'] = communes.centroid.y\n",
    "communes['longitude'] = communes.centroid.x"
   ]
  },
  {
   "cell_type": "code",
   "execution_count": 27,
   "id": "baf69e38",
   "metadata": {},
   "outputs": [],
   "source": [
    "# Drop centroid column if not needed\n",
    "communes = communes.drop(columns='centroid')"
   ]
  },
  {
   "cell_type": "code",
   "execution_count": 21,
   "id": "23151cff",
   "metadata": {},
   "outputs": [
    {
     "name": "stdout",
     "output_type": "stream",
     "text": [
      "                               nom   latitude  longitude\n",
      "0       Commune de Laqsabi Tagoust  28.967768 -10.240091\n",
      "1           Commune de Rass Oumlil  28.662261 -10.798347\n",
      "2  Commune de Sidi Ahmed Laaroussi  26.980072 -11.991460\n",
      "3             Commune de Tizounine  29.099425  -8.302945\n",
      "4           Commune de Fam El Hisn  28.794484  -8.814432\n"
     ]
    },
    {
     "data": {
      "text/plain": [
       "1505"
      ]
     },
     "execution_count": 21,
     "metadata": {},
     "output_type": "execute_result"
    }
   ],
   "source": [
    "# Print or save\n",
    "print(communes.head())\n",
    "len(communes)"
   ]
  },
  {
   "cell_type": "code",
   "execution_count": null,
   "id": "33bc3d3b",
   "metadata": {},
   "outputs": [],
   "source": [
    "# Optionally save to CSV\n",
    "communes.to_csv(\"morocco_communes_latlon.csv\", index=False)"
   ]
  },
  {
   "cell_type": "markdown",
   "id": "003dde8c",
   "metadata": {},
   "source": [
    "### Province Evaluation"
   ]
  },
  {
   "cell_type": "code",
   "execution_count": null,
   "id": "374bc8bb",
   "metadata": {},
   "outputs": [],
   "source": []
  },
  {
   "cell_type": "markdown",
   "id": "e581a77e",
   "metadata": {},
   "source": [
    "# Rainfall Data from NASA Power API. \n",
    "# For specific locations.\n",
    "# From 2010 to 2024"
   ]
  },
  {
   "cell_type": "code",
   "execution_count": 111,
   "id": "b30d3488",
   "metadata": {},
   "outputs": [],
   "source": [
    "import requests"
   ]
  },
  {
   "cell_type": "code",
   "execution_count": null,
   "id": "913f206a",
   "metadata": {},
   "outputs": [],
   "source": [
    "monthly_url = \"https://power.larc.nasa.gov/api/temporal/monthly/point\""
   ]
  },
  {
   "cell_type": "code",
   "execution_count": 110,
   "id": "943aa171",
   "metadata": {},
   "outputs": [],
   "source": [
    "commune_rain_data = {}"
   ]
  },
  {
   "cell_type": "code",
   "execution_count": null,
   "id": "bc682d79",
   "metadata": {},
   "outputs": [],
   "source": [
    "for index in range(0, len(communes.latitude)):\n",
    "\n",
    "    monthly_params = {\n",
    "    \"parameters\": \"PRECTOTCORR\",\n",
    "    \"community\": \"AG\",\n",
    "    \"longitude\": communes.longitude[index],\n",
    "    \"latitude\": communes.latitude[index],\n",
    "    \"start\": \"2010\",\n",
    "    \"end\": \"2024\",\n",
    "    \"format\": \"JSON\"\n",
    "    }\n",
    "\n",
    "    monthly_response = requests.get(monthly_url, params=monthly_params)\n",
    "    # wait for 5 seconds\n",
    "    print('sleeping')\n",
    "\n",
    "    if monthly_response.status_code == 200:\n",
    "        monthly_data = monthly_response.json()['properties']['parameter']['PRECTOTCORR']\n",
    "        count = 0\n",
    "        sum = 0\n",
    "        yearly_averages = []\n",
    "        for val in monthly_data.items():\n",
    "            if count <= 12:\n",
    "                sum += val[1]\n",
    "                count+=1\n",
    "                continue\n",
    "            yearly_averages.append(sum/count)\n",
    "            count = 0\n",
    "            sum = 0\n",
    "        commune_rain_data[communes.nom[index]] = yearly_averages\n",
    "    else:\n",
    "        print(\"error fetching data\")\n",
    "        commune_rain_data[communes.nom[index]] = monthly_response.headers.get(\"title\")       "
   ]
  },
  {
   "cell_type": "code",
   "execution_count": 126,
   "id": "910e3314",
   "metadata": {},
   "outputs": [
    {
     "data": {
      "text/plain": [
       "[0.2784615384615385,\n",
       " 0.35923076923076913,\n",
       " 0.24307692307692305,\n",
       " 0.18846153846153849,\n",
       " 0.486923076923077,\n",
       " 0.8007692307692308,\n",
       " 0.6461538461538462,\n",
       " 0.43769230769230766,\n",
       " 0.3215384615384615,\n",
       " 0.2684615384615384,\n",
       " 0.8238461538461538,\n",
       " 0.32076923076923075,\n",
       " 0.7892307692307694]"
      ]
     },
     "execution_count": 126,
     "metadata": {},
     "output_type": "execute_result"
    }
   ],
   "source": [
    "# len(commune_rain_data) - len(communes.latitude)\n",
    "commune_rain_data[communes.nom[2]]"
   ]
  },
  {
   "cell_type": "code",
   "execution_count": 133,
   "id": "3b512260",
   "metadata": {},
   "outputs": [
    {
     "data": {
      "text/plain": [
       "1505"
      ]
     },
     "execution_count": 133,
     "metadata": {},
     "output_type": "execute_result"
    }
   ],
   "source": [
    "len(communes.latitude)\n",
    "communes.nom[\"\"]"
   ]
  },
  {
   "cell_type": "code",
   "execution_count": 121,
   "id": "b5512851",
   "metadata": {},
   "outputs": [
    {
     "data": {
      "text/plain": [
       "25.083333333333332"
      ]
     },
     "execution_count": 121,
     "metadata": {},
     "output_type": "execute_result"
    }
   ],
   "source": [
    "((1 * 1505) / 60 / 60 ) * 60"
   ]
  },
  {
   "cell_type": "code",
   "execution_count": null,
   "id": "5efcdd52",
   "metadata": {},
   "outputs": [],
   "source": [
    "count = 0\n",
    "sum = 0\n",
    "yearly_averages = []\n",
    "for val in monthly_data.items():\n",
    "    if count <= 12:\n",
    "        sum += val[1]\n",
    "        count+=1\n",
    "        continue\n",
    "    yearly_averages.append(sum/count)\n",
    "    count = 0\n",
    "    sum = 0\n"
   ]
  },
  {
   "cell_type": "code",
   "execution_count": 59,
   "id": "b613e9f2",
   "metadata": {},
   "outputs": [
    {
     "data": {
      "text/plain": [
       "dict_items([('202001', 0.17), ('202002', 0.01), ('202003', 0.9), ('202004', 0.08), ('202005', 1.45), ('202006', 0.11), ('202007', 0.55), ('202008', 0.02), ('202009', 0.04), ('202010', 0.15), ('202011', 2.23), ('202012', 0.24), ('202013', 0.5), ('202101', 1.26), ('202102', 1.51), ('202103', 0.32), ('202104', 0.12), ('202105', 0.03), ('202106', 0.04), ('202107', 0.08), ('202108', 0.07), ('202109', 0.04), ('202110', 0.01), ('202111', 0.54), ('202112', 0.08), ('202113', 0.34), ('202201', 0.07), ('202202', 0.05), ('202203', 1.81), ('202204', 0.43), ('202205', 0.43), ('202206', 0.09), ('202207', 0.03), ('202208', 0.15), ('202209', 0.71), ('202210', 0.08), ('202211', 1.61), ('202212', 6.75), ('202213', 1.02), ('202301', 0.09), ('202302', 2.99), ('202303', 0.07), ('202304', 0.33), ('202305', 0.2), ('202306', 4.56), ('202307', 0.01), ('202308', 0.01), ('202309', 0.07), ('202310', 0.64), ('202311', 0.08), ('202312', 0.36), ('202313', 0.78), ('202401', 0.01), ('202402', 0.34), ('202403', 0.65), ('202404', 0.04), ('202405', 0.19), ('202406', 0.31), ('202407', 0.1), ('202408', 0.11), ('202409', 1.24), ('202410', 0.22), ('202411', 0.05), ('202412', 0.03), ('202413', 0.27)])"
      ]
     },
     "execution_count": 59,
     "metadata": {},
     "output_type": "execute_result"
    }
   ],
   "source": [
    "monthly_data.items()"
   ]
  },
  {
   "cell_type": "code",
   "execution_count": 53,
   "id": "7816703d",
   "metadata": {},
   "outputs": [],
   "source": [
    "# Calculate averages\n",
    "yearly_averages = {year: yearly_totals[year] / yearly_counts[year] for year in yearly_totals}"
   ]
  },
  {
   "cell_type": "code",
   "execution_count": 55,
   "id": "c20d51b6",
   "metadata": {},
   "outputs": [
    {
     "data": {
      "text/plain": [
       "{'2020': 0.4961538461538462,\n",
       " '2021': 0.3415384615384615,\n",
       " '2022': 1.0176923076923077,\n",
       " '2023': 0.7838461538461539,\n",
       " '2024': 0.27384615384615385}"
      ]
     },
     "execution_count": 55,
     "metadata": {},
     "output_type": "execute_result"
    }
   ],
   "source": [
    "yearly_averages"
   ]
  }
 ],
 "metadata": {
  "kernelspec": {
   "display_name": "Python 3",
   "language": "python",
   "name": "python3"
  },
  "language_info": {
   "codemirror_mode": {
    "name": "ipython",
    "version": 3
   },
   "file_extension": ".py",
   "mimetype": "text/x-python",
   "name": "python",
   "nbconvert_exporter": "python",
   "pygments_lexer": "ipython3",
   "version": "3.11.9"
  }
 },
 "nbformat": 4,
 "nbformat_minor": 5
}
