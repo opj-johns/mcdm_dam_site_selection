{
 "cells": [
  {
   "cell_type": "code",
   "execution_count": null,
   "id": "d6105d7f",
   "metadata": {},
   "outputs": [],
   "source": [
    "%pip install pandas openpyxl"
   ]
  },
  {
   "cell_type": "code",
   "execution_count": 2,
   "id": "cc59a36a",
   "metadata": {},
   "outputs": [],
   "source": [
    "import pandas as pd"
   ]
  },
  {
   "cell_type": "code",
   "execution_count": 4,
   "id": "9f17a692",
   "metadata": {},
   "outputs": [],
   "source": [
    "# Load the Excel file\n",
    "file_path = \"C:/Users/HP/OneDrive - Université Mohammed VI Polytechnique/Desktop/UM6P/Internship/The Journey/Data/hydro/MAR-dams_eng.xlsx\"\n",
    "xls = pd.ExcelFile(file_path)"
   ]
  },
  {
   "cell_type": "code",
   "execution_count": 5,
   "id": "b315563a",
   "metadata": {},
   "outputs": [],
   "source": [
    "# Read the sheets\n",
    "dams = pd.read_excel(xls, sheet_name='Dams')\n",
    "dams2 = pd.read_excel(xls, sheet_name='Dams 2')"
   ]
  },
  {
   "cell_type": "code",
   "execution_count": 6,
   "id": "e3f7928a",
   "metadata": {},
   "outputs": [],
   "source": [
    "# Ensure all matching keys are strings (to avoid mismatches)\n",
    "dams['col2'] = dams.iloc[:, 1].astype(str)      # Dams column 2\n",
    "dams['col6'] = dams.iloc[:, 5].astype(str)      # Dams column 6\n",
    "dams2['key'] = dams2.iloc[:, 0].astype(str)     # Dams 2 column 1"
   ]
  },
  {
   "cell_type": "code",
   "execution_count": 7,
   "id": "155f96b3",
   "metadata": {},
   "outputs": [],
   "source": [
    "# Prepare columns 11, 12, 13 from Dams (indices 10, 11, 12)\n",
    "dams_subset = dams[['col2', 'col6', dams.columns[10], dams.columns[11], dams.columns[12]]]"
   ]
  },
  {
   "cell_type": "code",
   "execution_count": 8,
   "id": "b6b8a7d4",
   "metadata": {},
   "outputs": [],
   "source": [
    "# Function to match and fetch values\n",
    "def find_match_values(key):\n",
    "    match = dams_subset[(dams_subset['col2'] == key) | (dams_subset['col6'] == key)]\n",
    "    if not match.empty:\n",
    "        row = match.iloc[0]\n",
    "        return pd.Series([row[2], row[3], row[4]])\n",
    "    else:\n",
    "        return pd.Series(['-', '-', '-'])"
   ]
  },
  {
   "cell_type": "code",
   "execution_count": 9,
   "id": "98361c92",
   "metadata": {},
   "outputs": [
    {
     "name": "stderr",
     "output_type": "stream",
     "text": [
      "C:\\Users\\HP\\AppData\\Local\\Temp\\ipykernel_9152\\609696696.py:6: FutureWarning: Series.__getitem__ treating keys as positions is deprecated. In a future version, integer keys will always be treated as labels (consistent with DataFrame behavior). To access a value by position, use `ser.iloc[pos]`\n",
      "  return pd.Series([row[2], row[3], row[4]])\n"
     ]
    }
   ],
   "source": [
    "# Apply matching for each row in Dams 2\n",
    "dams2[[dams2.columns[6], dams2.columns[7], dams2.columns[8]]] = dams2['key'].apply(find_match_values)"
   ]
  },
  {
   "cell_type": "code",
   "execution_count": 11,
   "id": "2e690198",
   "metadata": {},
   "outputs": [],
   "source": [
    "# Save result back to Excel\n",
    "with pd.ExcelWriter(\"MAR-dams_eng_updated.xlsx\", engine='openpyxl', mode='w') as writer:\n",
    "    dams.to_excel(writer, sheet_name='Dams', index=False)\n",
    "    dams2.to_excel(writer, sheet_name='Dams 2', index=False)\n",
    "    # Include the Legend sheet as is\n",
    "    pd.read_excel(xls, sheet_name='Legend').to_excel(writer, sheet_name='Legend', index=False)\n"
   ]
  }
 ],
 "metadata": {
  "kernelspec": {
   "display_name": "Python 3",
   "language": "python",
   "name": "python3"
  },
  "language_info": {
   "codemirror_mode": {
    "name": "ipython",
    "version": 3
   },
   "file_extension": ".py",
   "mimetype": "text/x-python",
   "name": "python",
   "nbconvert_exporter": "python",
   "pygments_lexer": "ipython3",
   "version": "3.11.9"
  }
 },
 "nbformat": 4,
 "nbformat_minor": 5
}
