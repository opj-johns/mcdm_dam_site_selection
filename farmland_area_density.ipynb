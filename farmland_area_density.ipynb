{
 "cells": [
  {
   "cell_type": "code",
   "execution_count": 1,
   "id": "fc6e096f",
   "metadata": {},
   "outputs": [
    {
     "name": "stdout",
     "output_type": "stream",
     "text": [
      "Requirement already satisfied: geopandas in c:\\users\\hp\\appdata\\local\\packages\\pythonsoftwarefoundation.python.3.11_qbz5n2kfra8p0\\localcache\\local-packages\\python311\\site-packages (1.0.1)\n",
      "Requirement already satisfied: pandas in c:\\users\\hp\\appdata\\local\\packages\\pythonsoftwarefoundation.python.3.11_qbz5n2kfra8p0\\localcache\\local-packages\\python311\\site-packages (2.2.3)\n",
      "Requirement already satisfied: shapely in c:\\users\\hp\\appdata\\local\\packages\\pythonsoftwarefoundation.python.3.11_qbz5n2kfra8p0\\localcache\\local-packages\\python311\\site-packages (2.1.0)\n",
      "Requirement already satisfied: numpy>=1.22 in c:\\users\\hp\\appdata\\local\\packages\\pythonsoftwarefoundation.python.3.11_qbz5n2kfra8p0\\localcache\\local-packages\\python311\\site-packages (from geopandas) (2.2.5)\n",
      "Requirement already satisfied: pyogrio>=0.7.2 in c:\\users\\hp\\appdata\\local\\packages\\pythonsoftwarefoundation.python.3.11_qbz5n2kfra8p0\\localcache\\local-packages\\python311\\site-packages (from geopandas) (0.10.0)\n",
      "Requirement already satisfied: packaging in c:\\users\\hp\\appdata\\local\\packages\\pythonsoftwarefoundation.python.3.11_qbz5n2kfra8p0\\localcache\\local-packages\\python311\\site-packages (from geopandas) (25.0)\n",
      "Requirement already satisfied: pyproj>=3.3.0 in c:\\users\\hp\\appdata\\local\\packages\\pythonsoftwarefoundation.python.3.11_qbz5n2kfra8p0\\localcache\\local-packages\\python311\\site-packages (from geopandas) (3.7.1)\n",
      "Requirement already satisfied: python-dateutil>=2.8.2 in c:\\users\\hp\\appdata\\local\\packages\\pythonsoftwarefoundation.python.3.11_qbz5n2kfra8p0\\localcache\\local-packages\\python311\\site-packages (from pandas) (2.9.0.post0)\n",
      "Requirement already satisfied: pytz>=2020.1 in c:\\users\\hp\\appdata\\local\\packages\\pythonsoftwarefoundation.python.3.11_qbz5n2kfra8p0\\localcache\\local-packages\\python311\\site-packages (from pandas) (2025.2)\n",
      "Requirement already satisfied: tzdata>=2022.7 in c:\\users\\hp\\appdata\\local\\packages\\pythonsoftwarefoundation.python.3.11_qbz5n2kfra8p0\\localcache\\local-packages\\python311\\site-packages (from pandas) (2025.2)\n",
      "Requirement already satisfied: certifi in c:\\users\\hp\\appdata\\local\\packages\\pythonsoftwarefoundation.python.3.11_qbz5n2kfra8p0\\localcache\\local-packages\\python311\\site-packages (from pyogrio>=0.7.2->geopandas) (2025.4.26)\n",
      "Requirement already satisfied: six>=1.5 in c:\\users\\hp\\appdata\\local\\packages\\pythonsoftwarefoundation.python.3.11_qbz5n2kfra8p0\\localcache\\local-packages\\python311\\site-packages (from python-dateutil>=2.8.2->pandas) (1.17.0)\n",
      "Note: you may need to restart the kernel to use updated packages.\n"
     ]
    }
   ],
   "source": [
    "%pip install geopandas pandas shapely"
   ]
  },
  {
   "cell_type": "code",
   "execution_count": 2,
   "id": "bfa8f8da",
   "metadata": {},
   "outputs": [],
   "source": [
    "import geopandas as gpd\n",
    "import pandas as pd\n",
    "from shapely.geometry import Point"
   ]
  },
  {
   "cell_type": "code",
   "execution_count": 4,
   "id": "bc84c1fc",
   "metadata": {},
   "outputs": [],
   "source": [
    "# Load the shapefile\n",
    "landcover = gpd.read_file(\"C:/Users/HP/OneDrive - Université Mohammed VI Polytechnique/Desktop/UM6P/Internship/The Journey/Data/QGIS/data/landuse/gis_osm_landuse_a_free_1.shp\")\n",
    "\n",
    "# Load your shapefile (replace with your actual file path)\n",
    "communes = gpd.read_file(\"C:/Users/HP/OneDrive - Université Mohammed VI Polytechnique/Desktop/UM6P/Internship/The Journey/Data/QGIS/data/populaion_commune/populaion_commune.shp\")"
   ]
  },
  {
   "cell_type": "code",
   "execution_count": 5,
   "id": "05b81b73",
   "metadata": {},
   "outputs": [],
   "source": [
    "# Filter landcover by target fclasses\n",
    "lc_filtered = landcover[landcover['fclass'].isin(['farmland', 'farmyard', 'vineyard'])].copy()"
   ]
  },
  {
   "cell_type": "code",
   "execution_count": 6,
   "id": "8b5eaaa1",
   "metadata": {},
   "outputs": [],
   "source": [
    "# Reproject everything to metric CRS (e.g. EPSG:32630 for Morocco)\n",
    "target_crs = \"EPSG:32630\"\n",
    "communes = communes.to_crs(target_crs)\n",
    "lc_filtered = lc_filtered.to_crs(target_crs)"
   ]
  },
  {
   "cell_type": "code",
   "execution_count": 7,
   "id": "0878dca2",
   "metadata": {},
   "outputs": [],
   "source": [
    "df = pd.read_csv('dams.csv')"
   ]
  },
  {
   "cell_type": "code",
   "execution_count": 8,
   "id": "69c4fd91",
   "metadata": {},
   "outputs": [],
   "source": [
    "# Load dam points from DataFrame\n",
    "# Example: df = pd.read_csv(\"dam_points.csv\")  # with 'latitude' and 'longitude'\n",
    "dam_gdf = gpd.GeoDataFrame(\n",
    "    df,\n",
    "    geometry=gpd.points_from_xy(df.longitude, df.latitude),\n",
    "    crs=\"EPSG:4326\"\n",
    ").to_crs(target_crs)"
   ]
  },
  {
   "cell_type": "code",
   "execution_count": 9,
   "id": "107cd4ea",
   "metadata": {},
   "outputs": [],
   "source": [
    "# Step 1: Spatial join to assign each dam to a commune\n",
    "dam_with_commune = gpd.sjoin(dam_gdf, communes, how='left', predicate='within')"
   ]
  },
  {
   "cell_type": "code",
   "execution_count": 10,
   "id": "4d4b9f15",
   "metadata": {},
   "outputs": [],
   "source": [
    "# Step 2: For each commune, calculate landcover area by type\n",
    "# First, calculate geometry area\n",
    "lc_filtered[\"area_m2\"] = lc_filtered.geometry.area"
   ]
  },
  {
   "cell_type": "code",
   "execution_count": 11,
   "id": "8cf85838",
   "metadata": {},
   "outputs": [],
   "source": [
    "# Spatial join to match landcover polygons to communes\n",
    "lc_with_commune = gpd.sjoin(lc_filtered, communes, how=\"inner\", predicate=\"intersects\")"
   ]
  },
  {
   "cell_type": "code",
   "execution_count": 12,
   "id": "62ed8563",
   "metadata": {},
   "outputs": [],
   "source": [
    "\n",
    "# Group by commune ID and fclass to get total areas\n",
    "commune_lc_area = lc_with_commune.groupby(\n",
    "    [lc_with_commune.index_right, 'fclass']\n",
    ")['area_m2'].sum().unstack(fill_value=0).reset_index()"
   ]
  },
  {
   "cell_type": "code",
   "execution_count": 13,
   "id": "55fa4ac6",
   "metadata": {},
   "outputs": [],
   "source": [
    "\n",
    "# Merge back with dam_with_commune using commune index (from sjoin)\n",
    "dam_with_commune['commune_id'] = dam_with_commune.index_right\n",
    "result = dam_with_commune.merge(commune_lc_area, left_on='commune_id', right_on='index_right', how='left')"
   ]
  },
  {
   "cell_type": "code",
   "execution_count": 14,
   "id": "d4aaff80",
   "metadata": {},
   "outputs": [],
   "source": [
    "# Fill missing landcover types with 0\n",
    "for col in ['farmland', 'farmyard', 'vineyard']:\n",
    "    if col not in result:\n",
    "        result[col] = 0\n",
    "    else:\n",
    "        result[col] = result[col].fillna(0)"
   ]
  },
  {
   "cell_type": "code",
   "execution_count": 15,
   "id": "836bebd0",
   "metadata": {},
   "outputs": [],
   "source": [
    "# Reproject back to WGS84 for output\n",
    "result = result.to_crs(\"EPSG:4326\")\n",
    "result['latitude'] = result.geometry.y\n",
    "result['longitude'] = result.geometry.x"
   ]
  },
  {
   "cell_type": "code",
   "execution_count": 16,
   "id": "c59cf384",
   "metadata": {},
   "outputs": [],
   "source": [
    "# Output CSV\n",
    "result[['latitude', 'longitude', 'farmland', 'farmyard', 'vineyard']].rename(\n",
    "    columns={\n",
    "        'farmland': 'farmland_area_m2',\n",
    "        'farmyard': 'farmyard_area_m2',\n",
    "        'vineyard': 'vineyard_area_m2'\n",
    "    }\n",
    ").to_csv(\"dam_commune_landuse_areas.csv\", index=False)"
   ]
  }
 ],
 "metadata": {
  "kernelspec": {
   "display_name": "Python 3",
   "language": "python",
   "name": "python3"
  },
  "language_info": {
   "codemirror_mode": {
    "name": "ipython",
    "version": 3
   },
   "file_extension": ".py",
   "mimetype": "text/x-python",
   "name": "python",
   "nbconvert_exporter": "python",
   "pygments_lexer": "ipython3",
   "version": "3.11.9"
  }
 },
 "nbformat": 4,
 "nbformat_minor": 5
}
