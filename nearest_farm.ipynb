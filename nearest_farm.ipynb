{
 "cells": [
  {
   "cell_type": "code",
   "execution_count": 7,
   "id": "30fd11e5",
   "metadata": {},
   "outputs": [],
   "source": [
    "import geopandas as gpd\n",
    "import pandas as pd\n",
    "from shapely.geometry import Point\n",
    "import pandas as pd"
   ]
  },
  {
   "cell_type": "code",
   "execution_count": 6,
   "id": "dcd8ed73",
   "metadata": {},
   "outputs": [],
   "source": [
    "\n",
    "# Load the shapefile\n",
    "landcover = gpd.read_file(\"C:/Users/HP/OneDrive - Université Mohammed VI Polytechnique/Desktop/UM6P/Internship/The Journey/Data/QGIS/data/landuse/gis_osm_landuse_a_free_1.shp\")\n"
   ]
  },
  {
   "cell_type": "code",
   "execution_count": 11,
   "id": "0239c7ed",
   "metadata": {},
   "outputs": [],
   "source": [
    "# Filter by fclass\n",
    "residential = landcover[landcover['fclass'] == 'residential'].copy()\n",
    "farmland = landcover[landcover['fclass'] == 'farmland'].copy()\n",
    "industrial = landcover[landcover['fclass'] == 'industrial'].copy()"
   ]
  },
  {
   "cell_type": "code",
   "execution_count": 8,
   "id": "4122869f",
   "metadata": {},
   "outputs": [],
   "source": [
    "df = pd.read_csv('dams.csv')"
   ]
  },
  {
   "cell_type": "code",
   "execution_count": 14,
   "id": "9ea551df",
   "metadata": {},
   "outputs": [],
   "source": [
    "dam_gdf = gpd.GeoDataFrame(\n",
    "    df,\n",
    "    geometry=gpd.points_from_xy(df.longitude, df.latitude),\n",
    "    crs=\"EPSG:4326\"  # Assuming WGS84\n",
    ")"
   ]
  },
  {
   "cell_type": "code",
   "execution_count": 15,
   "id": "a3b0b324",
   "metadata": {},
   "outputs": [],
   "source": [
    "# Reproject everything to a metric CRS (e.g., UTM Zone 30N)\n",
    "target_crs = \"EPSG:32630\"\n",
    "dam_gdf = dam_gdf.to_crs(target_crs)\n",
    "residential = residential.to_crs(target_crs)\n",
    "farmland = farmland.to_crs(target_crs)\n",
    "industrial = industrial.to_crs(target_crs)"
   ]
  },
  {
   "cell_type": "code",
   "execution_count": 16,
   "id": "fb448e59",
   "metadata": {},
   "outputs": [],
   "source": [
    "# Helper function to compute nearest distance (in meters)\n",
    "def nearest_distance(point, gdf_target):\n",
    "    return gdf_target.geometry.distance(point).min()"
   ]
  },
  {
   "cell_type": "code",
   "execution_count": 17,
   "id": "5f543ea8",
   "metadata": {},
   "outputs": [],
   "source": [
    "# Apply distances\n",
    "dam_gdf[\"dist_to_residential_m\"] = dam_gdf.geometry.apply(lambda p: nearest_distance(p, residential))\n",
    "dam_gdf[\"dist_to_farmland_m\"] = dam_gdf.geometry.apply(lambda p: nearest_distance(p, farmland))\n",
    "dam_gdf[\"dist_to_industrial_m\"] = dam_gdf.geometry.apply(lambda p: nearest_distance(p, industrial))"
   ]
  },
  {
   "cell_type": "code",
   "execution_count": 19,
   "id": "623ad1fd",
   "metadata": {},
   "outputs": [],
   "source": [
    "# Save to CSV\n",
    "dam_gdf[['longitude', 'latitude', 'dist_to_residential_m', 'dist_to_farmland_m', 'dist_to_industrial_m']].to_csv(\"dam_distances_to_landuse.csv\", index=False)"
   ]
  }
 ],
 "metadata": {
  "kernelspec": {
   "display_name": "Python 3",
   "language": "python",
   "name": "python3"
  },
  "language_info": {
   "codemirror_mode": {
    "name": "ipython",
    "version": 3
   },
   "file_extension": ".py",
   "mimetype": "text/x-python",
   "name": "python",
   "nbconvert_exporter": "python",
   "pygments_lexer": "ipython3",
   "version": "3.11.9"
  }
 },
 "nbformat": 4,
 "nbformat_minor": 5
}
