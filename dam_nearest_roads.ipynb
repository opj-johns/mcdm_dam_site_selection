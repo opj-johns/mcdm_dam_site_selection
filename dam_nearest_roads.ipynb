{
 "cells": [
  {
   "cell_type": "code",
   "execution_count": 2,
   "id": "ecb535eb",
   "metadata": {},
   "outputs": [],
   "source": [
    "import geopandas as gpd\n",
    "import pandas as pd\n",
    "from shapely.geometry import Point"
   ]
  },
  {
   "cell_type": "code",
   "execution_count": 3,
   "id": "635e68f8",
   "metadata": {},
   "outputs": [],
   "source": [
    "# Load the road shapefiles\n",
    "national_roads = gpd.read_file(\"C:/Users/HP/OneDrive - Université Mohammed VI Polytechnique/Desktop/UM6P/Internship/The Journey/Data/QGIS/data/national_routes/routes_nationales.shp\")\n",
    "regional_roads = gpd.read_file(\"C:/Users/HP/OneDrive - Université Mohammed VI Polytechnique/Desktop/UM6P/Internship/The Journey/Data/QGIS/data/routes_regionales/RoutesRegionales.shp\")\n",
    "provincial_roads = gpd.read_file(\"C:/Users/HP/OneDrive - Université Mohammed VI Polytechnique/Desktop/UM6P/Internship/The Journey/Data/QGIS/data/routes_provinciale/routes_provinciale.shp\")"
   ]
  },
  {
   "cell_type": "code",
   "execution_count": 4,
   "id": "b6dbbf9c",
   "metadata": {},
   "outputs": [],
   "source": [
    "df = pd.read_csv('dams.csv')"
   ]
  },
  {
   "cell_type": "code",
   "execution_count": 5,
   "id": "d600afbd",
   "metadata": {},
   "outputs": [],
   "source": [
    "# Convert to GeoDataFrame\n",
    "dams_gdf = gpd.GeoDataFrame(\n",
    "    df,\n",
    "    geometry=gpd.points_from_xy(df.longitude, df.latitude),\n",
    "    crs=\"EPSG:4326\"  # assuming WGS84\n",
    ")"
   ]
  },
  {
   "cell_type": "code",
   "execution_count": 6,
   "id": "6e102ec7",
   "metadata": {},
   "outputs": [],
   "source": [
    "metric_crs = \"EPSG:32630\"\n",
    "dams_gdf = dams_gdf.to_crs(metric_crs)\n",
    "national_roads = national_roads.to_crs(metric_crs)\n",
    "regional_roads = regional_roads.to_crs(metric_crs)\n",
    "provincial_roads = provincial_roads.to_crs(metric_crs)"
   ]
  },
  {
   "cell_type": "code",
   "execution_count": 7,
   "id": "77b5d462",
   "metadata": {},
   "outputs": [],
   "source": [
    "# Function to calculate nearest distance\n",
    "def get_nearest_distance(point, roads_gdf):\n",
    "    distances = roads_gdf.geometry.distance(point)\n",
    "    return distances.min()"
   ]
  },
  {
   "cell_type": "code",
   "execution_count": 8,
   "id": "d67f558d",
   "metadata": {},
   "outputs": [],
   "source": [
    "# Calculate distances\n",
    "dams_gdf['nearest_national_road'] = dams_gdf.geometry.apply(lambda p: get_nearest_distance(p, national_roads))\n",
    "dams_gdf['nearest_regional_road'] = dams_gdf.geometry.apply(lambda p: get_nearest_distance(p, regional_roads))\n",
    "dams_gdf['nearest_provincial_road'] = dams_gdf.geometry.apply(lambda p: get_nearest_distance(p, provincial_roads))"
   ]
  },
  {
   "cell_type": "code",
   "execution_count": 9,
   "id": "80159a61",
   "metadata": {},
   "outputs": [],
   "source": [
    "# Convert back to lat/lon if needed\n",
    "dams_gdf = dams_gdf.to_crs(\"EPSG:4326\")\n",
    "dams_gdf['longitude'] = dams_gdf.geometry.x\n",
    "dams_gdf['latitude'] = dams_gdf.geometry.y"
   ]
  },
  {
   "cell_type": "code",
   "execution_count": 10,
   "id": "fe457c4f",
   "metadata": {},
   "outputs": [],
   "source": [
    "# Save to CSV\n",
    "dams_gdf[['longitude', 'latitude', 'nearest_national_road', 'nearest_regional_road', 'nearest_provincial_road']].to_csv(\"dam_nearest_roads.csv\", index=False)"
   ]
  },
  {
   "cell_type": "code",
   "execution_count": null,
   "id": "c8f4ca06",
   "metadata": {},
   "outputs": [],
   "source": []
  }
 ],
 "metadata": {
  "kernelspec": {
   "display_name": "Python 3",
   "language": "python",
   "name": "python3"
  },
  "language_info": {
   "codemirror_mode": {
    "name": "ipython",
    "version": 3
   },
   "file_extension": ".py",
   "mimetype": "text/x-python",
   "name": "python",
   "nbconvert_exporter": "python",
   "pygments_lexer": "ipython3",
   "version": "3.11.9"
  }
 },
 "nbformat": 4,
 "nbformat_minor": 5
}
