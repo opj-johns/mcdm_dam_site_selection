{
 "cells": [
  {
   "cell_type": "code",
   "execution_count": 26,
   "id": "b702b170",
   "metadata": {},
   "outputs": [
    {
     "name": "stdout",
     "output_type": "stream",
     "text": [
      "Requirement already satisfied: requests in c:\\users\\hp\\anaconda3\\lib\\site-packages (2.32.3)\n",
      "Requirement already satisfied: beautifulsoup4 in c:\\users\\hp\\anaconda3\\lib\\site-packages (4.12.3)\n",
      "Requirement already satisfied: charset-normalizer<4,>=2 in c:\\users\\hp\\anaconda3\\lib\\site-packages (from requests) (3.3.2)\n",
      "Requirement already satisfied: idna<4,>=2.5 in c:\\users\\hp\\anaconda3\\lib\\site-packages (from requests) (3.7)\n",
      "Requirement already satisfied: urllib3<3,>=1.21.1 in c:\\users\\hp\\anaconda3\\lib\\site-packages (from requests) (2.2.3)\n",
      "Requirement already satisfied: certifi>=2017.4.17 in c:\\users\\hp\\anaconda3\\lib\\site-packages (from requests) (2025.4.26)\n",
      "Requirement already satisfied: soupsieve>1.2 in c:\\users\\hp\\anaconda3\\lib\\site-packages (from beautifulsoup4) (2.5)\n",
      "Note: you may need to restart the kernel to use updated packages.\n"
     ]
    }
   ],
   "source": [
    "# Step 1: Install required packages (only need to run once in a Colab session)\n",
    "%pip install requests beautifulsoup4\n",
    "\n",
    "# Step 2: Import libraries\n",
    "import requests\n",
    "from bs4 import BeautifulSoup"
   ]
  },
  {
   "cell_type": "code",
   "execution_count": 28,
   "id": "51dc2e3d",
   "metadata": {},
   "outputs": [],
   "source": [
    "# Step 3: Set the target URL\n",
    "url = \"https://www.mem.gov.ma/Pages/secteur.aspx?e=2&prj=2\""
   ]
  },
  {
   "cell_type": "code",
   "execution_count": 29,
   "id": "693bf98e",
   "metadata": {},
   "outputs": [],
   "source": [
    "# Step 4: Fetch the page content\n",
    "response = requests.get(url)\n",
    "soup = BeautifulSoup(response.content, \"html.parser\")"
   ]
  },
  {
   "cell_type": "code",
   "execution_count": 30,
   "id": "e79c3df8",
   "metadata": {},
   "outputs": [],
   "source": [
    "# Step 5: Find all divs with class 'col-lg-12 projects-div'\n",
    "project_divs = soup.find_all(\"div\", class_=\"col-lg-12\")"
   ]
  },
  {
   "cell_type": "code",
   "execution_count": 37,
   "id": "d64d0f1c",
   "metadata": {},
   "outputs": [],
   "source": [
    "# Step 6: Extract hrefs from anchor tags inside each div\n",
    "project_sub_urls = set()\n",
    "for div in project_divs:\n",
    "    anchor = div.find(\"a\", href=True)\n",
    "    if anchor and anchor['href'][0]=='?':\n",
    "        project_sub_urls.add(anchor['href'])"
   ]
  },
  {
   "cell_type": "code",
   "execution_count": null,
   "id": "06baf993",
   "metadata": {},
   "outputs": [],
   "source": [
    "# Step 7: Display the result\n",
    "project_sub_urls"
   ]
  },
  {
   "cell_type": "code",
   "execution_count": 41,
   "id": "b99cc3ee",
   "metadata": {},
   "outputs": [],
   "source": [
    "from urllib.parse import urljoin\n",
    "base_url = 'https://www.mem.gov.ma/Pages/secteur.aspx'"
   ]
  },
  {
   "cell_type": "code",
   "execution_count": 42,
   "id": "d30d9e79",
   "metadata": {},
   "outputs": [],
   "source": [
    "# Step 4: Extract text data from each sub-URL\n",
    "project_texts = []\n",
    "\n",
    "for link in project_sub_urls:\n",
    "    link = urljoin(base_url, link)\n",
    "    sub_response = requests.get(link)\n",
    "    sub_soup = BeautifulSoup(sub_response.content, \"html.parser\")\n",
    "    media_content = sub_soup.find(\"div\", class_=\"media\")\n",
    "    if media_content:\n",
    "        text = media_content.get_text(separator=' ', strip=True)\n",
    "        project_texts.append({\n",
    "            \"url\": link,\n",
    "            \"text\": text\n",
    "        })"
   ]
  },
  {
   "cell_type": "code",
   "execution_count": null,
   "id": "d89e4622",
   "metadata": {},
   "outputs": [
    {
     "data": {
      "text/plain": [
       "[{'url': 'https://www.mem.gov.ma/Pages/secteur.aspx?e=2&sprj=243',\n",
       "  'text': \"Projet de la microcentrale hydroélectrique Melloul- 2 (24 MW) CADRE DU PROJET La réalisation du projet de la microcentrale hydroélectrique Melloul 2 d'une capacité de 24 MW s'inscrit dans le cadre de la loi n°13-09 relative aux énergies renouvelables, telle qu'elle a été modifiée et complétée par la loi n° 58-15. Ce Ministère a accordé une autorisation provisoire à la société Platinum Power pour la mise en œuvre de ce projet. La production d'énergie électrique est destinée aux clients de ladite société. SPECIFICATIONS ENERGETIQUES\\xa0: Région\\xa0\\xa0\\xa0\\xa0\\xa0\\xa0\\xa0\\xa0\\xa0\\xa0\\xa0\\xa0\\xa0\\xa0\\xa0\\xa0\\xa0\\xa0\\xa0\\xa0\\xa0\\xa0 \\xa0\\xa0\\xa0\\xa0\\xa0\\xa0\\xa0\\xa0\\xa0\\xa0\\xa0\\xa0\\xa0\\xa0\\xa0\\xa0\\xa0\\xa0\\xa0\\xa0\\xa0\\xa0\\xa0\\xa0\\xa0\\xa0\\xa0\\xa0: Beni Mellal-Khénifra Puissance installée\\xa0\\xa0\\xa0\\xa0\\xa0\\xa0 \\xa0\\xa0\\xa0\\xa0\\xa0\\xa0\\xa0\\xa0\\xa0\\xa0\\xa0 \\xa0\\xa0\\xa0\\xa0\\xa0\\xa0\\xa0\\xa0 : 24 MW Production électrique annuelle\\xa0\\xa0\\xa0 \\xa0\\xa0\\xa0\\xa0: 52 GWh Localisation\\xa0\\xa0\\xa0\\xa0\\xa0\\xa0\\xa0\\xa0\\xa0\\xa0\\xa0\\xa0\\xa0\\xa0\\xa0\\xa0\\xa0\\xa0\\xa0\\xa0\\xa0\\xa0\\xa0\\xa0\\xa0\\xa0\\xa0\\xa0\\xa0\\xa0\\xa0\\xa0\\xa0\\xa0\\xa0\\xa0\\xa0\\xa0\\xa0\\xa0\\xa0 : Province d'Azilal Postes d'emploi\\xa0\\xa0\\xa0\\xa0\\xa0\\xa0\\xa0\\xa0\\xa0\\xa0\\xa0\\xa0\\xa0\\xa0\\xa0\\xa0\\xa0\\xa0\\xa0\\xa0\\xa0\\xa0\\xa0\\xa0\\xa0\\xa0\\xa0\\xa0\\xa0\\xa0\\xa0\\xa0\\xa0 : 7 emplois directs et 15 emplois indirects Intégration industrielle\\xa0\\xa0\\xa0\\xa0\\xa0\\xa0\\xa0\\xa0\\xa0\\xa0\\xa0\\xa0\\xa0\\xa0\\xa0\\xa0\\xa0\\xa0\\xa0\\xa0\\xa0 : Environ 65-70% CADRE DE DEVELOPPEMENT\\xa0: Par le secteur privé dans le cadre de la loi 13-09 relative aux énergies renouvelables. AVANCEMENT DU PROJET Octroi d'autorisation provisoire en date de 1 février 2018. ETAT D'AVANCEMENT DU PROJET En cours de développement. DATE DE MISE EN SERVICE PRÉVISIONNELLE\\xa0: 2023\"},\n",
       " {'url': 'https://www.mem.gov.ma/Pages/secteur.aspx?e=2&sprj=236',\n",
       "  'text': \"Projet de la microcentrale hydroélectrique Abdelmoumen 12 MW \\u200b CADRE DU PROJET La réalisation du projet de la microcentrale hydroélectrique Abdelmoumen d'une capacité de 12 MW s'inscrit dans le cadre de la loi n°13-09 relative aux énergies renouvelables, telle qu'elle a été modifiée et complétée par la loi n° 58-15. Ce Ministère a accordé une autorisation provisoire à la société Energie J2 Terre pour la mise en œuvre de ce projet. La production d'énergie électrique est destinée aux clients de ladite société. SPECIFICATIONS ENERGETIQUES : Région\\xa0\\xa0\\xa0\\xa0\\xa0\\xa0\\xa0\\xa0\\xa0\\xa0\\xa0\\xa0\\xa0\\xa0\\xa0\\xa0\\xa0\\xa0\\xa0\\xa0\\xa0\\xa0 \\xa0\\xa0\\xa0\\xa0\\xa0\\xa0\\xa0\\xa0\\xa0\\xa0\\xa0\\xa0\\xa0\\xa0\\xa0\\xa0\\xa0\\xa0\\xa0\\xa0\\xa0\\xa0\\xa0\\xa0\\xa0\\xa0\\xa0\\xa0: Sous-Massa Puissance installée\\xa0\\xa0\\xa0\\xa0\\xa0\\xa0 \\xa0\\xa0\\xa0\\xa0\\xa0\\xa0\\xa0\\xa0\\xa0\\xa0\\xa0 \\xa0\\xa0\\xa0\\xa0\\xa0\\xa0\\xa0\\xa0 : 12 MW Production électrique annuelle\\xa0\\xa0\\xa0 \\xa0\\xa0\\xa0\\xa0: 30,9 GWh Barrage\\xa0\\xa0\\xa0\\xa0\\xa0\\xa0\\xa0\\xa0\\xa0\\xa0\\xa0\\xa0\\xa0\\xa0\\xa0\\xa0\\xa0\\xa0\\xa0\\xa0\\xa0\\xa0\\xa0\\xa0\\xa0\\xa0\\xa0\\xa0\\xa0\\xa0\\xa0\\xa0\\xa0\\xa0\\xa0\\xa0\\xa0\\xa0\\xa0\\xa0\\xa0\\xa0\\xa0\\xa0\\xa0\\xa0\\xa0\\xa0 : Barrage Abdelmoumen Postes d'emploi\\xa0\\xa0\\xa0\\xa0\\xa0\\xa0\\xa0\\xa0\\xa0\\xa0\\xa0\\xa0\\xa0\\xa0\\xa0\\xa0\\xa0\\xa0\\xa0\\xa0\\xa0\\xa0\\xa0\\xa0\\xa0\\xa0\\xa0\\xa0\\xa0\\xa0\\xa0\\xa0\\xa0 : 10 emplois directs Intégration industrielle\\xa0\\xa0\\xa0\\xa0\\xa0\\xa0\\xa0\\xa0\\xa0\\xa0\\xa0\\xa0\\xa0\\xa0\\xa0\\xa0\\xa0\\xa0\\xa0\\xa0\\xa0 : Environ 80% CADRE DE DEVELOPPEMENT\\xa0: Par le secteur privé dans le cadre de la loi 13-09 relative aux énergies renouvelables. AVANCEMENT DU PROJET Octroi d'autorisation provisoire en date de 9 juillet 2016. ETAT D'AVANCEMENT DU PROJET En cours de développement. DATE DE MISE EN SERVICE PRÉVISIONNELLE\\xa0: 2021\"},\n",
       " {'url': 'https://www.mem.gov.ma/Pages/secteur.aspx?e=2&sprj=241',\n",
       "  'text': \"Projet de la microcentrale hydroélectrique Machraa Sfa 6 MW \\u200b CADRE DU PROJET La réalisation du projet de la microcentrale hydroélectrique Machraâ Sfa d'une capacité de 6 MW s'inscrit dans le cadre de la loi n°13-09 relative aux énergies renouvelables, telle qu'elle a été modifiée et complétée par la loi n° 58-15. Ce Ministère a accordé une autorisation provisoire à la société Energie J2 Terre pour la mise en œuvre de ce projet. La production d'énergie électrique est destinée aux clients de ladite société. SPECIFICATIONS ENERGETIQUES\\xa0: Région\\xa0\\xa0\\xa0\\xa0\\xa0\\xa0\\xa0\\xa0\\xa0\\xa0\\xa0\\xa0\\xa0\\xa0\\xa0\\xa0\\xa0\\xa0\\xa0\\xa0\\xa0\\xa0 \\xa0\\xa0\\xa0\\xa0\\xa0\\xa0\\xa0\\xa0\\xa0\\xa0\\xa0\\xa0\\xa0\\xa0\\xa0\\xa0\\xa0\\xa0\\xa0\\xa0\\xa0\\xa0\\xa0\\xa0\\xa0\\xa0\\xa0\\xa0: Casablanca-Settat Puissance installée\\xa0\\xa0\\xa0\\xa0\\xa0\\xa0 \\xa0\\xa0\\xa0\\xa0\\xa0\\xa0\\xa0\\xa0\\xa0\\xa0\\xa0 \\xa0\\xa0\\xa0\\xa0\\xa0\\xa0\\xa0\\xa0 : 6 MW Production électrique annuelle\\xa0\\xa0\\xa0 \\xa0\\xa0\\xa0\\xa0: 29,89 GWh Localisation\\xa0\\xa0\\xa0\\xa0\\xa0\\xa0\\xa0\\xa0\\xa0\\xa0\\xa0\\xa0\\xa0\\xa0\\xa0\\xa0\\xa0\\xa0\\xa0\\xa0\\xa0\\xa0\\xa0\\xa0\\xa0\\xa0\\xa0\\xa0\\xa0\\xa0\\xa0\\xa0\\xa0\\xa0\\xa0\\xa0\\xa0\\xa0\\xa0\\xa0\\xa0 : Mechraâ Ben Abou Postes d'emploi\\xa0\\xa0\\xa0\\xa0\\xa0\\xa0\\xa0\\xa0\\xa0\\xa0\\xa0\\xa0\\xa0\\xa0\\xa0\\xa0\\xa0\\xa0\\xa0\\xa0\\xa0\\xa0\\xa0\\xa0\\xa0\\xa0\\xa0\\xa0\\xa0\\xa0\\xa0\\xa0\\xa0 : 10 emplois directs Intégration industrielle\\xa0\\xa0\\xa0\\xa0\\xa0\\xa0\\xa0\\xa0\\xa0\\xa0\\xa0\\xa0\\xa0\\xa0\\xa0\\xa0\\xa0\\xa0\\xa0\\xa0\\xa0 : Environ 80% CADRE DE DEVELOPPEMENT\\xa0: Par le secteur privé dans le cadre de la loi 13-09 relative aux énergies renouvelables. AVANCEMENT DU PROJET Octroi d'autorisation provisoire en date de 2 janvier 2018. ETAT D'AVANCEMENT DU PROJET En cours de développement. DATE DE MISE EN SERVICE PRÉVISIONNELLE\\xa0: 2022\"},\n",
       " {'url': 'https://www.mem.gov.ma/Pages/secteur.aspx?e=2&sprj=245',\n",
       "  'text': \"Projet de la microcentrale hydroélectrique Oued Za 6,7 MW \\u200b CADRE DU PROJET La réalisation du projet de la microcentrale hydroélectrique Oued Za d'une capacité de 6,7 MW s'inscrit dans le cadre de la loi n°13-09 relative aux énergies renouvelables, telle qu'elle a été modifiée et complétée par la loi n° 58-15. Ce Ministère a accordé une autorisation provisoire à la société Energie J2 Terre pour la mise en œuvre de ce projet. La production d'énergie électrique est destinée aux clients de ladite société. SPECIFICATIONS ENERGETIQUES\\xa0: Région\\xa0\\xa0\\xa0\\xa0\\xa0\\xa0\\xa0\\xa0\\xa0\\xa0\\xa0\\xa0\\xa0\\xa0\\xa0\\xa0\\xa0\\xa0\\xa0\\xa0\\xa0\\xa0 \\xa0\\xa0\\xa0\\xa0\\xa0\\xa0\\xa0\\xa0\\xa0\\xa0\\xa0\\xa0\\xa0\\xa0\\xa0\\xa0\\xa0\\xa0\\xa0\\xa0\\xa0\\xa0\\xa0\\xa0\\xa0\\xa0\\xa0\\xa0: Région de l'Oriental Puissance installée\\xa0\\xa0\\xa0\\xa0\\xa0\\xa0 \\xa0\\xa0\\xa0\\xa0\\xa0\\xa0\\xa0\\xa0\\xa0\\xa0\\xa0 \\xa0\\xa0\\xa0\\xa0\\xa0\\xa0\\xa0\\xa0 : 6,7 MW Production électrique annuelle\\xa0\\xa0\\xa0 \\xa0\\xa0\\xa0\\xa0: 16,2 GWh Localisation\\xa0\\xa0\\xa0\\xa0\\xa0\\xa0\\xa0\\xa0\\xa0\\xa0\\xa0\\xa0\\xa0\\xa0\\xa0\\xa0\\xa0\\xa0\\xa0\\xa0\\xa0\\xa0\\xa0\\xa0\\xa0\\xa0\\xa0\\xa0\\xa0\\xa0\\xa0\\xa0\\xa0\\xa0\\xa0\\xa0\\xa0\\xa0\\xa0\\xa0\\xa0 : Commune Ahl Oued Za/ Province de Taourirte Postes d'emploi\\xa0\\xa0\\xa0\\xa0\\xa0\\xa0\\xa0\\xa0\\xa0\\xa0\\xa0\\xa0\\xa0\\xa0\\xa0\\xa0\\xa0\\xa0\\xa0\\xa0\\xa0\\xa0\\xa0\\xa0\\xa0\\xa0\\xa0\\xa0\\xa0\\xa0\\xa0\\xa0\\xa0 : 10 emplois directs Intégration industrielle\\xa0\\xa0\\xa0\\xa0\\xa0\\xa0\\xa0\\xa0\\xa0\\xa0\\xa0\\xa0\\xa0\\xa0\\xa0\\xa0\\xa0\\xa0\\xa0\\xa0\\xa0 : Environ 80% CADRE DE DEVELOPPEMENT\\xa0: Par le secteur privé dans le cadre de la loi 13-09 relative aux énergies renouvelables. AVANCEMENT DU PROJET Octroi d'autorisation provisoire en date de 9 mai 2017. ETAT D'AVANCEMENT DU PROJET En cours de développement. DATE DE MISE EN SERVICE PRÉVISIONNELLE : 2022\"},\n",
       " {'url': 'https://www.mem.gov.ma/Pages/secteur.aspx?e=2&sprj=254',\n",
       "  'text': \"STEP ABDELMOUMEN 350 MW \\u200b CADRE DU PROJET Afin d'améliorer les conditions techniques et économiques d'exploitation des moyens de production et du réseau de transport d'électricité, l'Office National de l'Electricité et de l'Eau Potable a lancé un programme pour déterminer la localisation, l'étude et la réalisation des stations de transfert d'énergie par pompage. A cet effet, le projet de station de transfert d'énergie par pompage Abdelmoumen d'une capacité de 350 MW, située à environ 70 km au nord-est de la ville d'Agadir, a été programmé. SPECIFICATIONS ENERGETIQUES : Région\\xa0\\xa0\\xa0\\xa0\\xa0\\xa0\\xa0\\xa0\\xa0\\xa0\\xa0\\xa0\\xa0\\xa0\\xa0\\xa0\\xa0\\xa0\\xa0\\xa0\\xa0\\xa0\\xa0\\xa0\\xa0\\xa0\\xa0\\xa0\\xa0\\xa0\\xa0\\xa0\\xa0\\xa0\\xa0\\xa0\\xa0\\xa0\\xa0\\xa0\\xa0\\xa0\\xa0\\xa0\\xa0\\xa0\\xa0\\xa0\\xa0\\xa0\\xa0\\xa0\\xa0\\xa0\\xa0\\xa0\\xa0\\xa0\\xa0\\xa0\\xa0 : Sous-Massa Puissance installée\\xa0\\xa0\\xa0\\xa0\\xa0\\xa0\\xa0\\xa0\\xa0\\xa0\\xa0\\xa0\\xa0\\xa0\\xa0\\xa0\\xa0\\xa0\\xa0\\xa0\\xa0\\xa0\\xa0\\xa0\\xa0\\xa0\\xa0\\xa0\\xa0\\xa0\\xa0\\xa0\\xa0\\xa0\\xa0\\xa0\\xa0\\xa0\\xa0\\xa0\\xa0\\xa0\\xa0 : 350 MW Puissance turbinage installée\\xa0\\xa0\\xa0\\xa0\\xa0\\xa0\\xa0\\xa0\\xa0\\xa0\\xa0\\xa0\\xa0\\xa0\\xa0\\xa0\\xa0\\xa0\\xa0\\xa0\\xa0 : 2*175 MW Puissance pompage installée\\xa0\\xa0\\xa0\\xa0\\xa0\\xa0\\xa0\\xa0\\xa0\\xa0\\xa0\\xa0\\xa0\\xa0\\xa0\\xa0\\xa0\\xa0\\xa0\\xa0\\xa0\\xa0 : 2*160 MW Nombre d'unités \\xa0\\xa0\\xa0\\xa0\\xa0\\xa0\\xa0\\xa0\\xa0\\xa0\\xa0\\xa0\\xa0\\xa0\\xa0\\xa0\\xa0\\xa0\\xa0\\xa0\\xa0\\xa0\\xa0\\xa0\\xa0\\xa0\\xa0\\xa0\\xa0\\xa0\\xa0\\xa0\\xa0\\xa0\\xa0\\xa0\\xa0\\xa0\\xa0\\xa0\\xa0\\xa0\\xa0: deux groupes réversibles (2*150 MW) Production annuelle \\xa0\\xa0\\xa0\\xa0\\xa0\\xa0\\xa0\\xa0\\xa0\\xa0\\xa0\\xa0\\xa0\\xa0\\xa0\\xa0\\xa0\\xa0\\xa0\\xa0\\xa0\\xa0\\xa0\\xa0 \\xa0\\xa0\\xa0\\xa0\\xa0\\xa0\\xa0\\xa0\\xa0\\xa0\\xa0\\xa0\\xa0\\xa0\\xa0: 616 GWh Consommation pompage annuelle \\xa0\\xa0\\xa0\\xa0\\xa0\\xa0\\xa0\\xa0\\xa0\\xa0\\xa0 : 812 GWh CADRE DE DEVELOPPEMENT\\xa0: Par le secteur privé au profit de l'ONEE dans le cadre du contrat EPC. AVANCEMENT DU PROJET L'Appel d'Offres a été attribué au groupement composé de Vinci Construction et Andritz Hydro pour la construction de la station de transfert d'énergie par pompage d'Abdelmoumen d'une capacité de 350 MW en 2017. L'avancement de la construction\\xa0de la STEP est estimé, en mois d'octobre 2021, à environ\\xa070%. INVESTISSEMENT GLOBAL : 3,2 Milliards MAD. ETAT D'AVANCEMENT DU PROJET En cours de construction. DATE DE MISE EN SERVICE PRÉVISIONNEL LE : 2022\"},\n",
       " {'url': 'https://www.mem.gov.ma/Pages/secteur.aspx?e=2&sprj=238',\n",
       "  'text': \"Projet de la microcentrale hydroélectrique Bab Ouender 30 MW \\u200b CADRE DU PROJET La réalisation du projet de la microcentrale hydroélectrique Bab Ouender d'une capacité de 30 MW s'inscrit dans le cadre de la loi n°13-09 relative aux énergies renouvelables, telle qu'elle a été modifiée et complétée par la loi n° 58-15. Ce Ministère a accordé une autorisation provisoire à la société Platinum Power pour la mise en œuvre de ce projet. La production d'énergie électrique est destinée aux clients de ladite société. SPECIFICATIONS ENERGETIQUES\\xa0: Région\\xa0\\xa0\\xa0\\xa0\\xa0\\xa0\\xa0\\xa0\\xa0\\xa0\\xa0\\xa0\\xa0\\xa0\\xa0\\xa0\\xa0\\xa0\\xa0\\xa0\\xa0\\xa0 \\xa0\\xa0\\xa0\\xa0\\xa0\\xa0\\xa0\\xa0\\xa0\\xa0\\xa0\\xa0\\xa0\\xa0\\xa0\\xa0\\xa0\\xa0\\xa0\\xa0\\xa0\\xa0\\xa0\\xa0\\xa0\\xa0\\xa0\\xa0: Fés-Meknès Puissance installée\\xa0\\xa0\\xa0\\xa0\\xa0\\xa0 \\xa0\\xa0\\xa0\\xa0\\xa0\\xa0\\xa0\\xa0\\xa0\\xa0\\xa0 \\xa0\\xa0\\xa0\\xa0\\xa0\\xa0\\xa0\\xa0 : 30 MW Production électrique annuelle\\xa0\\xa0\\xa0 \\xa0\\xa0\\xa0\\xa0: 56 GWh Localisation\\xa0\\xa0\\xa0\\xa0\\xa0\\xa0\\xa0\\xa0\\xa0\\xa0\\xa0\\xa0\\xa0\\xa0\\xa0\\xa0\\xa0\\xa0\\xa0\\xa0\\xa0\\xa0\\xa0\\xa0\\xa0\\xa0\\xa0\\xa0\\xa0\\xa0\\xa0\\xa0\\xa0\\xa0\\xa0\\xa0\\xa0\\xa0\\xa0\\xa0\\xa0 : Barrage Bab Ouender/ Province de Taounate Postes d'emploi\\xa0\\xa0\\xa0\\xa0\\xa0\\xa0\\xa0\\xa0\\xa0\\xa0\\xa0\\xa0\\xa0\\xa0\\xa0\\xa0\\xa0\\xa0\\xa0\\xa0\\xa0\\xa0\\xa0\\xa0\\xa0\\xa0\\xa0\\xa0\\xa0\\xa0\\xa0\\xa0\\xa0 : 7 emplois directs et 15 emplois indirects Intégration industrielle\\xa0\\xa0\\xa0\\xa0\\xa0\\xa0\\xa0\\xa0\\xa0\\xa0\\xa0\\xa0\\xa0\\xa0\\xa0\\xa0\\xa0\\xa0\\xa0\\xa0\\xa0 : Environ 65-70% CADRE DE DEVELOPPEMENT\\xa0: Par le secteur privé dans le cadre de la loi 13-09 relative aux énergies renouvelables. AVANCEMENT DU PROJET Octroi d'autorisation provisoire en date de 6 février 2018. ETAT D'AVANCEMENT DU PROJET En cours de développement. DATE DE MISE EN SERVICE PRÉVISIONNELLE\\xa0: Février 2023\"},\n",
       " {'url': 'https://www.mem.gov.ma/Pages/secteur.aspx?e=2&sprj=256',\n",
       "  'text': \"STEP IFAHSA 300 MW \\u200b CADRE DU PROJET Afin d'améliorer les conditions techniques et économiques d'exploitation des moyens de production et du réseau de transport d'électricité, l'Office National de l'Electricité et de l'Eau Potable a lancé un programme pour déterminer la localisation, l'étude et la réalisation des stations de transfert d'énergie par pompage, qui sont considérées parmi les moyens de production flexibles afin de faire face aux fluctuations de la production électrique d'origine renouvelable. A cet effet, le projet de station de transfert d'énergie par pompage Ifahsa d'une capacité de 300 MW, située sur la rive droite de la vallée du Laou, au sud de la province de Tétouan et à 14 km de la province de Chefchaouen, a été programmé. SPECIFICATIONS ENERGETIQUES : Région\\xa0\\xa0\\xa0 \\xa0\\xa0\\xa0\\xa0\\xa0\\xa0\\xa0\\xa0\\xa0\\xa0\\xa0\\xa0\\xa0\\xa0\\xa0\\xa0\\xa0\\xa0\\xa0\\xa0\\xa0\\xa0\\xa0\\xa0\\xa0\\xa0\\xa0\\xa0\\xa0\\xa0\\xa0\\xa0\\xa0\\xa0\\xa0\\xa0\\xa0\\xa0\\xa0\\xa0\\xa0\\xa0\\xa0\\xa0\\xa0\\xa0\\xa0\\xa0\\xa0\\xa0\\xa0\\xa0\\xa0\\xa0\\xa0\\xa0\\xa0\\xa0: Tanger-Tétouan-Al Hoceima Puissance installée\\xa0\\xa0\\xa0\\xa0\\xa0\\xa0\\xa0\\xa0\\xa0\\xa0\\xa0\\xa0\\xa0\\xa0\\xa0\\xa0\\xa0\\xa0\\xa0\\xa0\\xa0\\xa0\\xa0\\xa0\\xa0\\xa0\\xa0\\xa0\\xa0\\xa0\\xa0\\xa0\\xa0\\xa0\\xa0\\xa0\\xa0\\xa0\\xa0\\xa0\\xa0\\xa0\\xa0 : 300 MW Nombre d'unités\\xa0\\xa0\\xa0\\xa0\\xa0\\xa0\\xa0\\xa0\\xa0\\xa0\\xa0\\xa0\\xa0\\xa0\\xa0\\xa0\\xa0\\xa0\\xa0\\xa0\\xa0\\xa0\\xa0\\xa0\\xa0\\xa0\\xa0\\xa0\\xa0\\xa0\\xa0\\xa0\\xa0\\xa0\\xa0\\xa0\\xa0\\xa0\\xa0\\xa0\\xa0\\xa0\\xa0 : deux groupes réversibles (2*150 MW) Débit des équipements\\xa0\\xa0\\xa0\\xa0\\xa0\\xa0\\xa0\\xa0\\xa0\\xa0\\xa0\\xa0\\xa0\\xa0\\xa0\\xa0\\xa0\\xa0\\xa0\\xa0 \\xa0\\xa0\\xa0\\xa0\\xa0\\xa0\\xa0\\xa0\\xa0\\xa0\\xa0\\xa0: 44 m 3 /s Production turbinage annuelle \\xa0\\xa0\\xa0\\xa0\\xa0\\xa0\\xa0\\xa0\\xa0\\xa0\\xa0\\xa0\\xa0\\xa0\\xa0\\xa0\\xa0\\xa0\\xa0 : 550 GWh Consommation pompage annuelle \\xa0\\xa0\\xa0\\xa0\\xa0\\xa0\\xa0\\xa0\\xa0\\xa0\\xa0 : 710 GWh INVESTISSEMENT GLOBAL : Environ 2920 Millions MAD. CADRE DE DEVELOPPEMENT\\xa0: Par le secteur privé au profit de l'ONEE dans le cadre du contrat EPC. AVANCEMENT DU PROJET Réalisation des études d'Avant Projet Somaires. Lancement des études détaillées du projet. ETAT D'AVANCEMENT DU PROJET En phase d'étude. DATE DE MISE EN SERVICE PRÉVISIONNEL LE : 2029\"},\n",
       " {'url': 'https://www.mem.gov.ma/Pages/secteur.aspx?e=2&sprj=247',\n",
       "  'text': \"Projet de la microcentrale hydroélectrique Sidi Driss 3,15 MW \\u200b CADRE DU PROJET La réalisation du projet de la microcentrale hydroélectrique Sidi Driss d'une capacité de 3,15 MW s'inscrit dans le cadre de la loi n°13-09 relative aux énergies renouvelables, telle qu'elle a été modifiée et complétée par la loi n° 58-15. Ce Ministère a accordé une autorisation provisoire à la société Energie J2 Terre pour la mise en œuvre de ce projet. La production d'énergie électrique est destinée aux clients de ladite société. SPECIFICATIONS ENERGETIQUES\\xa0: Région\\xa0\\xa0\\xa0\\xa0\\xa0\\xa0\\xa0\\xa0\\xa0\\xa0\\xa0\\xa0\\xa0\\xa0\\xa0\\xa0\\xa0\\xa0\\xa0\\xa0\\xa0\\xa0 \\xa0\\xa0\\xa0\\xa0\\xa0\\xa0\\xa0\\xa0\\xa0\\xa0\\xa0\\xa0\\xa0\\xa0\\xa0\\xa0\\xa0\\xa0\\xa0\\xa0\\xa0\\xa0\\xa0\\xa0\\xa0\\xa0\\xa0\\xa0: Marrakech-safi Puissance installée\\xa0\\xa0\\xa0\\xa0\\xa0\\xa0 \\xa0\\xa0\\xa0\\xa0\\xa0\\xa0\\xa0\\xa0\\xa0\\xa0\\xa0 \\xa0\\xa0\\xa0\\xa0\\xa0\\xa0\\xa0\\xa0 : 3,15 MW Production électrique annuelle\\xa0\\xa0\\xa0 \\xa0\\xa0\\xa0\\xa0: 13,1 GWh Localisation\\xa0\\xa0\\xa0\\xa0\\xa0\\xa0\\xa0\\xa0\\xa0\\xa0\\xa0\\xa0\\xa0\\xa0\\xa0\\xa0\\xa0\\xa0\\xa0\\xa0\\xa0\\xa0\\xa0\\xa0\\xa0\\xa0\\xa0\\xa0\\xa0\\xa0\\xa0\\xa0\\xa0\\xa0\\xa0\\xa0\\xa0\\xa0\\xa0\\xa0\\xa0 : Wadi Al Akhdar Postes d'emploi\\xa0\\xa0\\xa0\\xa0\\xa0\\xa0\\xa0\\xa0\\xa0\\xa0\\xa0\\xa0\\xa0\\xa0\\xa0\\xa0\\xa0\\xa0\\xa0\\xa0\\xa0\\xa0\\xa0\\xa0\\xa0\\xa0\\xa0\\xa0\\xa0\\xa0\\xa0\\xa0\\xa0 : 10 emplois directs Intégration industrielle\\xa0\\xa0\\xa0\\xa0\\xa0\\xa0\\xa0\\xa0\\xa0\\xa0\\xa0\\xa0\\xa0\\xa0\\xa0\\xa0\\xa0\\xa0\\xa0\\xa0\\xa0 : Environ 80% CADRE DE DEVELOPPEMENT\\xa0: Par le secteur privé dans le cadre de la loi 13-09 relative aux énergies renouvelables. AVANCEMENT DU PROJET Octroi d'autorisation provisoire en date de 20 juillet 2014. ETAT D'AVANCEMENT DU PROJET En cours de développement. DATE DE MISE EN SERVICE PRÉVISIONNELLE\\xa0: 2021\"},\n",
       " {'url': 'https://www.mem.gov.ma/Pages/secteur.aspx?e=2&sprj=246',\n",
       "  'text': \"Projet de la microcentrale hydroélectrique SIDI CHAHED 1,3 MW \\u200b CADRE DU PROJET La réalisation du projet de la microcentrale hydroélectrique Sidi Chahed d'une capacité de 1,3 MW s'inscrit dans le cadre de la loi n°13-09 relative aux énergies renouvelables, telle qu'elle a été modifiée et complétée par la loi n° 58-15. Ce Ministère a accordé une autorisation provisoire à la société Voltalia Maroc pour la mise en œuvre de ce projet. La production d'énergie électrique est destinée aux clients de ladite société. SPECIFICATIONS ENERGETIQUES\\xa0: Région\\xa0\\xa0\\xa0\\xa0\\xa0\\xa0\\xa0\\xa0\\xa0\\xa0\\xa0\\xa0\\xa0\\xa0\\xa0\\xa0\\xa0\\xa0\\xa0\\xa0\\xa0\\xa0 \\xa0\\xa0\\xa0\\xa0\\xa0\\xa0\\xa0\\xa0\\xa0\\xa0\\xa0\\xa0\\xa0\\xa0\\xa0\\xa0\\xa0\\xa0\\xa0\\xa0\\xa0\\xa0\\xa0\\xa0\\xa0\\xa0\\xa0\\xa0: Fés-Meknès Puissance installée\\xa0\\xa0\\xa0\\xa0\\xa0\\xa0 \\xa0\\xa0\\xa0\\xa0\\xa0\\xa0\\xa0\\xa0\\xa0\\xa0\\xa0 \\xa0\\xa0\\xa0\\xa0\\xa0\\xa0\\xa0\\xa0 : 1,3 MW Production électrique annuelle\\xa0\\xa0\\xa0 \\xa0\\xa0\\xa0\\xa0: 3,5 GWh Localisation\\xa0\\xa0\\xa0\\xa0\\xa0\\xa0\\xa0\\xa0\\xa0\\xa0\\xa0\\xa0\\xa0\\xa0\\xa0\\xa0\\xa0\\xa0\\xa0\\xa0\\xa0\\xa0\\xa0\\xa0\\xa0\\xa0\\xa0\\xa0\\xa0\\xa0\\xa0\\xa0\\xa0\\xa0\\xa0\\xa0\\xa0\\xa0\\xa0\\xa0\\xa0 : Oued M'Kes/Province de Meknès CADRE DE DEVELOPPEMENT\\xa0: Par le secteur privé dans le cadre de la loi 13-09 relative aux énergies renouvelables. AVANCEMENT DU PROJET Octroi du récépissé définitif en date de 26 Novembre 2018. ETAT D'AVANCEMENT DU PROJET En cours de développement. DATE DE MISE EN SERVICE PRÉVISIONNELLE\\xa0: 2021\"},\n",
       " {'url': 'https://www.mem.gov.ma/Pages/secteur.aspx?e=2&sprj=237',\n",
       "  'text': \"Projet de la microcentrale hydroélectrique Ait Bougemaz 9,8 MW \\u200b CADRE DU PROJET La réalisation du projet de la microcentrale hydroélectrique Ait Bougemaz d'une capacité de 9,8 MW s'inscrit dans le cadre de la loi n°13-09 relative aux énergies renouvelables, telle qu'elle a été modifiée et complétée par la loi n° 58-15. Ce Ministère a accordé une autorisation provisoire à la société Voltalia Maroc pour la mise en œuvre de ce projet. La production d'énergie électrique est destinée aux clients de ladite société. SPECIFICATIONS ENERGETIQUES\\xa0: Région\\xa0\\xa0\\xa0\\xa0\\xa0\\xa0\\xa0\\xa0\\xa0\\xa0\\xa0\\xa0\\xa0\\xa0\\xa0\\xa0\\xa0\\xa0\\xa0\\xa0\\xa0\\xa0 \\xa0\\xa0\\xa0\\xa0\\xa0\\xa0\\xa0\\xa0\\xa0\\xa0\\xa0\\xa0\\xa0\\xa0\\xa0\\xa0\\xa0\\xa0\\xa0\\xa0\\xa0\\xa0\\xa0\\xa0\\xa0\\xa0\\xa0\\xa0: Beni Mellal-Khénifra Puissance installée\\xa0\\xa0\\xa0\\xa0\\xa0\\xa0 \\xa0\\xa0\\xa0\\xa0\\xa0\\xa0\\xa0\\xa0\\xa0\\xa0\\xa0 \\xa0\\xa0\\xa0\\xa0\\xa0\\xa0\\xa0\\xa0 : 9,8 MW Production électrique annuelle\\xa0\\xa0\\xa0 \\xa0\\xa0\\xa0\\xa0: 31,95 GWh Localisation\\xa0\\xa0\\xa0\\xa0\\xa0\\xa0\\xa0\\xa0\\xa0\\xa0\\xa0\\xa0\\xa0\\xa0\\xa0\\xa0\\xa0\\xa0\\xa0\\xa0\\xa0\\xa0\\xa0\\xa0\\xa0\\xa0\\xa0\\xa0\\xa0\\xa0\\xa0\\xa0\\xa0\\xa0\\xa0\\xa0\\xa0\\xa0\\xa0\\xa0\\xa0 : Province de Khénifra Postes d'emploi\\xa0\\xa0\\xa0\\xa0\\xa0\\xa0\\xa0\\xa0\\xa0\\xa0\\xa0\\xa0\\xa0\\xa0\\xa0\\xa0\\xa0\\xa0\\xa0\\xa0\\xa0\\xa0\\xa0\\xa0\\xa0\\xa0\\xa0\\xa0\\xa0\\xa0\\xa0\\xa0\\xa0 : 10 emplois directs Intégration industrielle\\xa0\\xa0\\xa0\\xa0\\xa0\\xa0\\xa0\\xa0\\xa0\\xa0\\xa0\\xa0\\xa0\\xa0\\xa0\\xa0\\xa0\\xa0\\xa0\\xa0\\xa0 : Environ 80% CADRE DE DEVELOPPEMENT\\xa0: Par le secteur privé dans le cadre de la loi 13-09 relative aux énergies renouvelables. AVANCEMENT DU PROJET Octroi d'autorisation provisoire en date de 8 janvier 2018. ETAT D'AVANCEMENT DU PROJET En cours de développement. DATE DE MISE EN SERVICE PRÉVISIONNELLE\\xa0: 2023\"},\n",
       " {'url': 'https://www.mem.gov.ma/Pages/secteur.aspx?e=2&sprj=251',\n",
       "  'text': \"Projet de la microcentrale hydroélectrique Tameslouhte 2,5 MW CADRE DU PROJET La réalisation du projet de la microcentrale hydroélectrique Tameslouhte d'une capacité de 2,5 MW s'inscrit dans le cadre de la loi n°13-09 relative aux énergies renouvelables, telle qu'elle a été modifiée et complétée par la loi n° 58-15. Ce Ministère a accordé une autorisation provisoire à la société Energie J2 Terre pour la mise en œuvre de ce projet. La production d'énergie électrique est destinée aux clients de ladite société. SPECIFICATIONS ENERGETIQUES\\xa0: Région\\xa0\\xa0\\xa0\\xa0\\xa0\\xa0\\xa0\\xa0\\xa0\\xa0\\xa0\\xa0\\xa0\\xa0\\xa0\\xa0\\xa0\\xa0\\xa0\\xa0\\xa0\\xa0 \\xa0\\xa0\\xa0\\xa0\\xa0\\xa0\\xa0\\xa0\\xa0\\xa0\\xa0\\xa0\\xa0\\xa0\\xa0\\xa0\\xa0\\xa0\\xa0\\xa0\\xa0\\xa0\\xa0\\xa0\\xa0\\xa0\\xa0\\xa0: Marrakech-Safi Puissance installée\\xa0\\xa0\\xa0\\xa0\\xa0\\xa0 \\xa0\\xa0\\xa0\\xa0\\xa0\\xa0\\xa0\\xa0\\xa0\\xa0\\xa0 \\xa0\\xa0\\xa0\\xa0\\xa0\\xa0\\xa0\\xa0 : 2,5 MW Production électrique annuelle\\xa0\\xa0\\xa0 \\xa0\\xa0\\xa0\\xa0: 9,77 GWh Barrage\\xa0\\xa0\\xa0\\xa0\\xa0\\xa0\\xa0\\xa0\\xa0\\xa0\\xa0\\xa0\\xa0\\xa0\\xa0\\xa0\\xa0\\xa0\\xa0\\xa0\\xa0\\xa0\\xa0\\xa0\\xa0\\xa0\\xa0\\xa0\\xa0\\xa0\\xa0\\xa0\\xa0\\xa0\\xa0\\xa0\\xa0\\xa0\\xa0\\xa0\\xa0\\xa0\\xa0\\xa0\\xa0\\xa0\\xa0\\xa0 : Barrage de Lalla Takerkoust Localisation\\xa0\\xa0\\xa0\\xa0\\xa0\\xa0\\xa0\\xa0\\xa0\\xa0\\xa0\\xa0\\xa0\\xa0\\xa0\\xa0\\xa0\\xa0\\xa0\\xa0\\xa0\\xa0\\xa0\\xa0\\xa0\\xa0\\xa0\\xa0\\xa0\\xa0\\xa0\\xa0\\xa0\\xa0\\xa0\\xa0\\xa0\\xa0\\xa0\\xa0\\xa0 : 25 km Nord du barrage de Lalla Takerkoust Postes d'emploi\\xa0\\xa0\\xa0\\xa0\\xa0\\xa0\\xa0\\xa0\\xa0\\xa0\\xa0\\xa0\\xa0\\xa0\\xa0\\xa0\\xa0\\xa0\\xa0\\xa0\\xa0\\xa0\\xa0\\xa0\\xa0\\xa0\\xa0\\xa0\\xa0\\xa0\\xa0\\xa0\\xa0 : 10 emplois directs Intégration industrielle\\xa0\\xa0\\xa0\\xa0\\xa0\\xa0\\xa0\\xa0\\xa0\\xa0\\xa0\\xa0\\xa0\\xa0\\xa0\\xa0\\xa0\\xa0\\xa0\\xa0\\xa0 : Environ 80% CADRE DE DEVELOPPEMENT\\xa0: Par le secteur privé dans le cadre de la loi 13-09 relative aux énergies renouvelables. AVANCEMENT DU PROJET Octroi d'autorisation provisoire en date de 9 février 2017. ETAT D'AVANCEMENT DU PROJET En cours de développement. DATE DE MISE EN SERVICE PRÉVISIONNELLE : 2021\"},\n",
       " {'url': 'https://www.mem.gov.ma/Pages/secteur.aspx?e=2&sprj=244',\n",
       "  'text': \"Projet de la microcentrale hydroélectrique Merija 6 MW CADRE DU PROJET La réalisation du projet de la microcentrale hydroélectrique Merija d'une capacité de 6 MW s'inscrit dans le cadre de la loi n°13-09 relative aux énergies renouvelables, telle qu'elle a été modifiée et complétée par la loi n° 58-15. Ce Ministère a accordé une autorisation provisoire à la société Energie J2 Terre pour la mise en œuvre de ce projet. La production d'énergie électrique est destinée aux clients de ladite société. SPECIFICATIONS ENERGETIQUES\\xa0: Région\\xa0\\xa0\\xa0\\xa0\\xa0\\xa0\\xa0\\xa0\\xa0\\xa0\\xa0\\xa0\\xa0\\xa0\\xa0\\xa0\\xa0\\xa0\\xa0\\xa0\\xa0\\xa0 \\xa0\\xa0\\xa0\\xa0\\xa0\\xa0\\xa0\\xa0\\xa0\\xa0\\xa0\\xa0\\xa0\\xa0\\xa0\\xa0\\xa0\\xa0\\xa0\\xa0\\xa0\\xa0\\xa0\\xa0\\xa0\\xa0\\xa0\\xa0: Casablanca-Settat Puissance installée\\xa0\\xa0\\xa0\\xa0\\xa0\\xa0 \\xa0\\xa0\\xa0\\xa0\\xa0\\xa0\\xa0\\xa0\\xa0\\xa0\\xa0 \\xa0\\xa0\\xa0\\xa0\\xa0\\xa0\\xa0\\xa0 : 6 MW Production électrique annuelle\\xa0\\xa0\\xa0 \\xa0\\xa0\\xa0\\xa0: 29,06 GWh Localisation\\xa0\\xa0\\xa0\\xa0\\xa0\\xa0\\xa0\\xa0\\xa0\\xa0\\xa0\\xa0\\xa0\\xa0\\xa0\\xa0\\xa0\\xa0\\xa0\\xa0\\xa0\\xa0\\xa0\\xa0\\xa0\\xa0\\xa0\\xa0\\xa0\\xa0\\xa0\\xa0\\xa0\\xa0\\xa0\\xa0\\xa0\\xa0\\xa0\\xa0\\xa0 : Mechraâ Ben Abou Postes d'emploi\\xa0\\xa0\\xa0\\xa0\\xa0\\xa0\\xa0\\xa0\\xa0\\xa0\\xa0\\xa0\\xa0\\xa0\\xa0\\xa0\\xa0\\xa0\\xa0\\xa0\\xa0\\xa0\\xa0\\xa0\\xa0\\xa0\\xa0\\xa0\\xa0\\xa0\\xa0\\xa0\\xa0 : 10 emplois directs Intégration industrielle\\xa0\\xa0\\xa0\\xa0\\xa0\\xa0\\xa0\\xa0\\xa0\\xa0\\xa0\\xa0\\xa0\\xa0\\xa0\\xa0\\xa0\\xa0\\xa0\\xa0\\xa0 : Environ 80% CADRE DE DEVELOPPEMENT\\xa0: Par le secteur privé dans le cadre de la loi 13-09 relative aux énergies renouvelables. AVANCEMENT DU PROJET Octroi d'autorisation provisoire en date de 2 janvier 2018. ETAT D'AVANCEMENT DU PROJET En cours de développement. DATE DE MISE EN SERVICE PRÉVISIONNELLE : 2022\"},\n",
       " {'url': 'https://www.mem.gov.ma/Pages/secteur.aspx?e=2&sprj=252',\n",
       "  'text': \"Projet de la microcentrale hydroélectrique TILOUGGUIT II (30 MW) \\u200b CADRE DU PROJET La réalisation du projet de la microcentrale hydroélectrique Tilougguit II d'une capacité de 30 MW s'inscrit dans le cadre de la loi n°13-09 relative aux énergies renouvelables, telle qu'elle a été modifiée et complétée par la loi n° 58-15. Ce Ministère a accordé une autorisation provisoire à la société Platinum Power pour la mise en œuvre de ce projet. La production d'énergie électrique est destinée aux clients de ladite société. SPECIFICATIONS ENERGETIQUES\\xa0: Région\\xa0\\xa0\\xa0\\xa0\\xa0\\xa0\\xa0\\xa0\\xa0\\xa0\\xa0\\xa0\\xa0\\xa0\\xa0\\xa0\\xa0\\xa0\\xa0\\xa0\\xa0\\xa0 \\xa0\\xa0\\xa0\\xa0\\xa0\\xa0\\xa0\\xa0\\xa0\\xa0\\xa0\\xa0\\xa0\\xa0\\xa0\\xa0\\xa0\\xa0\\xa0\\xa0\\xa0\\xa0\\xa0\\xa0\\xa0\\xa0\\xa0\\xa0: Beni Mellal-Khénifra Puissance installée\\xa0\\xa0\\xa0\\xa0\\xa0\\xa0 \\xa0\\xa0\\xa0\\xa0\\xa0\\xa0\\xa0\\xa0\\xa0\\xa0\\xa0 \\xa0\\xa0\\xa0\\xa0\\xa0\\xa0\\xa0\\xa0 : 30 MW Production électrique annuelle\\xa0\\xa0\\xa0 \\xa0\\xa0\\xa0\\xa0: 89 GWh Localisation\\xa0\\xa0\\xa0\\xa0\\xa0\\xa0\\xa0\\xa0\\xa0\\xa0\\xa0\\xa0\\xa0\\xa0\\xa0\\xa0\\xa0\\xa0\\xa0\\xa0\\xa0\\xa0\\xa0\\xa0\\xa0\\xa0\\xa0\\xa0\\xa0\\xa0\\xa0\\xa0\\xa0\\xa0\\xa0\\xa0\\xa0\\xa0\\xa0\\xa0\\xa0 : Barrage Tilougguit/ Province d'Azilal Postes d'emploi\\xa0\\xa0\\xa0\\xa0\\xa0\\xa0\\xa0\\xa0\\xa0\\xa0\\xa0\\xa0\\xa0\\xa0\\xa0\\xa0\\xa0\\xa0\\xa0\\xa0\\xa0\\xa0\\xa0\\xa0\\xa0\\xa0\\xa0\\xa0\\xa0\\xa0\\xa0\\xa0\\xa0 : 7 emplois directs et 15 emplois indirects Intégration industrielle\\xa0\\xa0\\xa0\\xa0\\xa0\\xa0\\xa0\\xa0\\xa0\\xa0\\xa0\\xa0\\xa0\\xa0\\xa0\\xa0\\xa0\\xa0\\xa0\\xa0\\xa0 : Environ 65-70% CADRE DE DEVELOPPEMENT\\xa0: Par le secteur privé dans le cadre de la loi 13-09 relative aux énergies renouvelables. AVANCEMENT DU PROJET Octroi d'autorisation provisoire en date de 6 février 2018. ETAT D'AVANCEMENT DU PROJET En cours de développement. DATE DE MISE EN SERVICE PRÉVISIONNELLE\\xa0: 2023\"},\n",
       " {'url': 'https://www.mem.gov.ma/Pages/secteur.aspx?e=2&sprj=242',\n",
       "  'text': \"Projet de la microcentrale hydroélectrique Melloul-1 (24 MW) \\u200b CADRE DU PROJET La réalisation du projet de la microcentrale hydroélectrique Melloul 1 d'une capacité de 24 MW s'inscrit dans le cadre de la loi n°13-09 relative aux énergies renouvelables, telle qu'elle a été modifiée et complétée par la loi n° 58-15. Ce Ministère a accordé une autorisation provisoire à la société Platinum Power pour la mise en œuvre de ce projet. La production d'énergie électrique est destinée aux clients de ladite société. SPECIFICATIONS ENERGETIQUES\\xa0: Région\\xa0\\xa0\\xa0\\xa0\\xa0\\xa0\\xa0\\xa0\\xa0\\xa0\\xa0\\xa0\\xa0\\xa0\\xa0\\xa0\\xa0\\xa0\\xa0\\xa0\\xa0\\xa0 \\xa0\\xa0\\xa0\\xa0\\xa0\\xa0\\xa0\\xa0\\xa0\\xa0\\xa0\\xa0\\xa0\\xa0\\xa0\\xa0\\xa0\\xa0\\xa0\\xa0\\xa0\\xa0\\xa0\\xa0\\xa0\\xa0\\xa0\\xa0: Beni Mellal-Khénifra Puissance installée\\xa0\\xa0\\xa0\\xa0\\xa0\\xa0 \\xa0\\xa0\\xa0\\xa0\\xa0\\xa0\\xa0\\xa0\\xa0\\xa0\\xa0 \\xa0\\xa0\\xa0\\xa0\\xa0\\xa0\\xa0\\xa0 : 24 MW Production électrique annuelle\\xa0\\xa0\\xa0 \\xa0\\xa0\\xa0\\xa0: 42 GWh Localisation\\xa0\\xa0\\xa0\\xa0\\xa0\\xa0\\xa0\\xa0\\xa0\\xa0\\xa0\\xa0\\xa0\\xa0\\xa0\\xa0\\xa0\\xa0\\xa0\\xa0\\xa0\\xa0\\xa0\\xa0\\xa0\\xa0\\xa0\\xa0\\xa0\\xa0\\xa0\\xa0\\xa0\\xa0\\xa0\\xa0\\xa0\\xa0\\xa0\\xa0\\xa0 : Province d'Azilal Postes d'emploi\\xa0\\xa0\\xa0\\xa0\\xa0\\xa0\\xa0\\xa0\\xa0\\xa0\\xa0\\xa0\\xa0\\xa0\\xa0\\xa0\\xa0\\xa0\\xa0\\xa0\\xa0\\xa0\\xa0\\xa0\\xa0\\xa0\\xa0\\xa0\\xa0\\xa0\\xa0\\xa0\\xa0 : 7 emplois directs et 15 emplois indirects Intégration industrielle\\xa0\\xa0\\xa0\\xa0\\xa0\\xa0\\xa0\\xa0\\xa0\\xa0\\xa0\\xa0\\xa0\\xa0\\xa0\\xa0\\xa0\\xa0\\xa0\\xa0\\xa0 : Environ 65-70% CADRE DE DEVELOPPEMENT\\xa0: Par le secteur privé dans le cadre de la loi 13-09 relative aux énergies renouvelables. AVANCEMENT DU PROJET Octroi d'autorisation provisoire en date de 1 février 2018. ETAT D'AVANCEMENT DU PROJET En cours de développement. DATE DE MISE EN SERVICE PRÉVISIONNELLE\\xa0: 2023\"},\n",
       " {'url': 'https://www.mem.gov.ma/Pages/secteur.aspx?e=2&sprj=234',\n",
       "  'text': \"COMPLEXE HYDROELECTRIQUE Agdez 18,5 MW CADRE DU PROJET Afin d'améliorer les conditions techniques et économiques d'exploitation des moyens de production et du réseau de transport d'électricité, l'Office National de l'Electricité et de l'Eau Potable a lancé un programme pour déterminer la localisation, l'étude et la réalisation des complexes hydroélectriques. A cet effet, le projet de complexe hydroélectrique Agdez d'une capacité de 18,5 MW, située dans la province de Zagora, a été programmé. SPECIFICATIONS ENERGETIQUES : Région\\xa0\\xa0\\xa0\\xa0\\xa0\\xa0\\xa0\\xa0\\xa0\\xa0\\xa0\\xa0\\xa0\\xa0\\xa0\\xa0\\xa0\\xa0\\xa0\\xa0\\xa0\\xa0\\xa0\\xa0\\xa0\\xa0\\xa0\\xa0\\xa0\\xa0\\xa0\\xa0\\xa0\\xa0\\xa0\\xa0\\xa0\\xa0\\xa0\\xa0\\xa0\\xa0\\xa0\\xa0\\xa0\\xa0\\xa0\\xa0\\xa0\\xa0\\xa0\\xa0\\xa0\\xa0\\xa0\\xa0\\xa0\\xa0\\xa0\\xa0\\xa0 : Draâ-Tafilalet Puissance installée\\xa0\\xa0\\xa0\\xa0\\xa0\\xa0\\xa0\\xa0\\xa0\\xa0\\xa0\\xa0\\xa0\\xa0\\xa0\\xa0\\xa0\\xa0\\xa0\\xa0\\xa0\\xa0\\xa0\\xa0\\xa0\\xa0\\xa0\\xa0\\xa0\\xa0\\xa0\\xa0\\xa0\\xa0\\xa0\\xa0\\xa0\\xa0\\xa0\\xa0\\xa0\\xa0\\xa0 : 18,5 MW Nombre d'unités\\xa0\\xa0\\xa0\\xa0\\xa0\\xa0\\xa0\\xa0\\xa0\\xa0\\xa0\\xa0\\xa0\\xa0\\xa0\\xa0\\xa0\\xa0\\xa0\\xa0\\xa0\\xa0\\xa0\\xa0\\xa0\\xa0\\xa0\\xa0\\xa0\\xa0\\xa0\\xa0\\xa0\\xa0\\xa0\\xa0\\xa0\\xa0\\xa0\\xa0\\xa0\\xa0\\xa0 : deux groupes (2*9,25 MW) CADRE DE DEVELOPPEMENT\\xa0: Par le secteur privé au profit de l'ONEE dans le cadre du contrat EPC. AVANCEMENT DU PROJET Réalisation des études d'Avant Projet Somaires et le lancement des études détaillées du projet. Le calendrier de réalisation de la centrale hydroélectrique d'Agdez dépend de l'avancement des travaux de construction du barrage Agdez qui est en cours de réalisation par la Direction des Aménagements Hydrauliques. INVESTISSEMENT GLOBAL : 250 Millions MAD. ETAT D'AVANCEMENT DU PROJET En phase d'étude. DATE DE MISE EN SERVICE PRÉVISIONNEL LE : 2026\"},\n",
       " {'url': 'https://www.mem.gov.ma/Pages/secteur.aspx?e=2&sprj=253',\n",
       "  'text': \"Projet de la microcentrale hydroélectrique Wirgane 6,6 MW \\u200b CADRE DU PROJET La réalisation du projet de la microcentrale hydroélectrique Wirgane d'une capacité de 6,6 MW s'inscrit dans le cadre de la loi n°13-09 relative aux énergies renouvelables, telle qu'elle a été modifiée et complétée par la loi n° 58-15. Ce Ministère a accordé une autorisation provisoire à la société Energie J2 Terre pour la mise en œuvre de ce projet. La production d'énergie électrique est destinée aux clients de ladite société. SPECIFICATIONS ENERGETIQUES\\xa0: Région\\xa0\\xa0\\xa0\\xa0\\xa0\\xa0\\xa0\\xa0\\xa0\\xa0\\xa0\\xa0\\xa0\\xa0\\xa0\\xa0\\xa0\\xa0\\xa0\\xa0\\xa0\\xa0 \\xa0\\xa0\\xa0\\xa0\\xa0\\xa0\\xa0\\xa0\\xa0\\xa0\\xa0\\xa0\\xa0\\xa0\\xa0\\xa0\\xa0\\xa0\\xa0\\xa0\\xa0\\xa0\\xa0\\xa0\\xa0\\xa0\\xa0\\xa0: Marrakech-Safi Puissance installée\\xa0\\xa0\\xa0\\xa0\\xa0\\xa0 \\xa0\\xa0\\xa0\\xa0\\xa0\\xa0\\xa0\\xa0\\xa0\\xa0\\xa0 \\xa0\\xa0\\xa0\\xa0\\xa0\\xa0\\xa0\\xa0 : 6,6 MW Production électrique annuelle\\xa0\\xa0\\xa0 \\xa0\\xa0\\xa0\\xa0: 31 GWh Barrage\\xa0\\xa0\\xa0\\xa0\\xa0\\xa0\\xa0\\xa0\\xa0\\xa0\\xa0\\xa0\\xa0\\xa0\\xa0\\xa0\\xa0\\xa0\\xa0\\xa0\\xa0\\xa0\\xa0\\xa0\\xa0\\xa0\\xa0\\xa0\\xa0\\xa0\\xa0\\xa0\\xa0\\xa0\\xa0\\xa0\\xa0\\xa0\\xa0\\xa0\\xa0\\xa0\\xa0\\xa0\\xa0\\xa0\\xa0\\xa0 : Barrage Wirgane Localisation\\xa0\\xa0\\xa0\\xa0\\xa0\\xa0\\xa0\\xa0\\xa0\\xa0\\xa0\\xa0\\xa0\\xa0\\xa0\\xa0\\xa0\\xa0\\xa0\\xa0\\xa0\\xa0\\xa0\\xa0\\xa0\\xa0\\xa0\\xa0\\xa0\\xa0\\xa0\\xa0\\xa0\\xa0\\xa0\\xa0\\xa0\\xa0\\xa0\\xa0\\xa0 : 22 km avant le barrage de Lalla Takerkoust Postes d'emploi\\xa0\\xa0\\xa0\\xa0\\xa0\\xa0\\xa0\\xa0\\xa0\\xa0\\xa0\\xa0\\xa0\\xa0\\xa0\\xa0\\xa0\\xa0\\xa0\\xa0\\xa0\\xa0\\xa0\\xa0\\xa0\\xa0\\xa0\\xa0\\xa0\\xa0\\xa0\\xa0\\xa0 : 10 emplois directs Intégration industrielle\\xa0\\xa0\\xa0\\xa0\\xa0\\xa0\\xa0\\xa0\\xa0\\xa0\\xa0\\xa0\\xa0\\xa0\\xa0\\xa0\\xa0\\xa0\\xa0\\xa0\\xa0 : Environ 80% CADRE DE DEVELOPPEMENT\\xa0: Par le secteur privé dans le cadre de la loi 13-09 relative aux énergies renouvelables. AVANCEMENT DU PROJET Octroi d'autorisation provisoire en date de 17 décembre 2015. ETAT D'AVANCEMENT DU PROJET En cours de développement. DATE DE MISE EN SERVICE PRÉVISIONNELLE\\xa0: 2021\"},\n",
       " {'url': 'https://www.mem.gov.ma/Pages/secteur.aspx?e=2&sprj=235',\n",
       "  'text': \"COMPLEXE HYDROELECTRIQUE IMEZDILFANE–TASKDERT–TAJEMOUT  128 MW \\u200b CADRE DU PROJET Afin d'améliorer les conditions techniques et économiques d'exploitation des moyens de production et du réseau de transport d'électricité, l'Office National de l'Electricité et de l'Eau Potable a lancé un programme pour déterminer la localisation, l'étude et la réalisation des complexes hydroélectriques. A cet effet, le projet de complexe hydroélectrique Imezdilfane–Taskdert–Tajemout d'une capacité de 128 MW, située dans la province de Beni Mellal, a été programmé. SPECIFICATIONS ENERGETIQUES : Région\\xa0\\xa0\\xa0\\xa0\\xa0\\xa0\\xa0\\xa0\\xa0\\xa0\\xa0\\xa0\\xa0\\xa0\\xa0\\xa0\\xa0\\xa0\\xa0\\xa0\\xa0\\xa0\\xa0\\xa0\\xa0\\xa0\\xa0\\xa0\\xa0\\xa0\\xa0\\xa0\\xa0\\xa0\\xa0\\xa0\\xa0\\xa0\\xa0\\xa0\\xa0\\xa0\\xa0\\xa0\\xa0\\xa0\\xa0\\xa0\\xa0\\xa0\\xa0\\xa0\\xa0\\xa0\\xa0\\xa0\\xa0\\xa0\\xa0\\xa0\\xa0 : Beni Mellal-Khénifra Puissance installée\\xa0\\xa0\\xa0\\xa0\\xa0\\xa0\\xa0\\xa0\\xa0\\xa0\\xa0\\xa0\\xa0\\xa0\\xa0\\xa0\\xa0\\xa0\\xa0\\xa0\\xa0\\xa0\\xa0\\xa0\\xa0\\xa0\\xa0\\xa0\\xa0\\xa0\\xa0\\xa0\\xa0\\xa0\\xa0\\xa0\\xa0\\xa0\\xa0\\xa0\\xa0\\xa0\\xa0 : 128 MW CADRE DE DEVELOPPEMENT\\xa0: Par le secteur privé au profit de l'ONEE dans le cadre du contrat EPC. AVANCEMENT DU PROJET Réalisation des études du projet. INVESTISSEMENT GLOBAL : 1610 Millions MAD. ETAT D'AVANCEMENT DU PROJET En phase d'étude. DATE DE MISE EN SERVICE PRÉVISIONNEL LE : 2027\"},\n",
       " {'url': 'https://www.mem.gov.ma/Pages/secteur.aspx?e=2&sprj=249',\n",
       "  'text': \"Projet de la microcentrale hydroélectrique Sources de l'Oum Er-Rbia 7,2 MW CADRE DU PROJET La réalisation du projet de la microcentrale hydroélectrique sources de l'Oum Er-rbia d'une capacité de 7,2 MW s'inscrit dans le cadre de la loi n°13-09 relative aux énergies renouvelables, telle qu'elle a été modifiée et complétée par la loi n° 58-15. Ce Ministère a accordé une autorisation provisoire à la société Voltalia Maroc pour la mise en œuvre de ce projet. La production d'énergie électrique est destinée aux clients de ladite société. SPECIFICATIONS ENERGETIQUES\\xa0: Région\\xa0\\xa0\\xa0\\xa0\\xa0\\xa0\\xa0\\xa0\\xa0\\xa0\\xa0\\xa0\\xa0\\xa0\\xa0\\xa0\\xa0\\xa0\\xa0\\xa0\\xa0\\xa0 \\xa0\\xa0\\xa0\\xa0\\xa0\\xa0\\xa0\\xa0\\xa0\\xa0\\xa0\\xa0\\xa0\\xa0\\xa0\\xa0\\xa0\\xa0\\xa0\\xa0\\xa0\\xa0\\xa0\\xa0\\xa0\\xa0\\xa0\\xa0: Beni Mellal-Khénifra Puissance installée\\xa0\\xa0\\xa0\\xa0\\xa0\\xa0 \\xa0\\xa0\\xa0\\xa0\\xa0\\xa0\\xa0\\xa0\\xa0\\xa0\\xa0 \\xa0\\xa0\\xa0\\xa0\\xa0\\xa0\\xa0\\xa0 : 7,2 MW Production électrique annuelle\\xa0\\xa0\\xa0 \\xa0\\xa0\\xa0\\xa0: 41,27 GWh Localisation\\xa0\\xa0\\xa0\\xa0\\xa0\\xa0\\xa0\\xa0\\xa0\\xa0\\xa0\\xa0\\xa0\\xa0\\xa0\\xa0\\xa0\\xa0\\xa0\\xa0\\xa0\\xa0\\xa0\\xa0\\xa0\\xa0\\xa0\\xa0\\xa0\\xa0\\xa0\\xa0\\xa0\\xa0\\xa0\\xa0\\xa0\\xa0\\xa0\\xa0\\xa0 : Province de Khénifra Postes d'emploi\\xa0\\xa0\\xa0\\xa0\\xa0\\xa0\\xa0\\xa0\\xa0\\xa0\\xa0\\xa0\\xa0\\xa0\\xa0\\xa0\\xa0\\xa0\\xa0\\xa0\\xa0\\xa0\\xa0\\xa0\\xa0\\xa0\\xa0\\xa0\\xa0\\xa0\\xa0\\xa0\\xa0 : 10 emplois directs Intégration industrielle\\xa0\\xa0\\xa0\\xa0\\xa0\\xa0\\xa0\\xa0\\xa0\\xa0\\xa0\\xa0\\xa0\\xa0\\xa0\\xa0\\xa0\\xa0\\xa0\\xa0\\xa0 : Environ 80% CADRE DE DEVELOPPEMENT\\xa0: Par le secteur privé dans le cadre de la loi 13-09 relative aux énergies renouvelables. AVANCEMENT DU PROJET Octroi d'autorisation provisoire en date de 8 janvier 2018. ETAT D'AVANCEMENT DU PROJET En cours de développement. DATE DE MISE EN SERVICE PRÉVISIONNELLE\\xa0: 2023\"},\n",
       " {'url': 'https://www.mem.gov.ma/Pages/secteur.aspx?e=2&sprj=250',\n",
       "  'text': \"Projet de la microcentrale hydroélectrique Tamajout 30 MW \\u200b CADRE DU PROJET La réalisation du projet de la microcentrale hydroélectrique Tamajout d'une capacité de 30 MW s'inscrit dans le cadre de la loi n°13-09 relative aux énergies renouvelables, telle qu'elle a été modifiée et complétée par la loi n° 58-15. Ce Ministère a accordé une autorisation provisoire à la société Platinum Power pour la mise en œuvre de ce projet. La production d'énergie électrique est destinée aux clients de ladite société. SPECIFICATIONS ENERGETIQUES\\xa0: Région\\xa0\\xa0\\xa0\\xa0\\xa0\\xa0\\xa0\\xa0\\xa0\\xa0\\xa0\\xa0\\xa0\\xa0\\xa0\\xa0\\xa0\\xa0\\xa0\\xa0\\xa0\\xa0 \\xa0\\xa0\\xa0\\xa0\\xa0\\xa0\\xa0\\xa0\\xa0\\xa0\\xa0\\xa0\\xa0\\xa0\\xa0\\xa0\\xa0\\xa0\\xa0\\xa0\\xa0\\xa0\\xa0\\xa0\\xa0\\xa0\\xa0\\xa0: Beni Mellal-Khénifra Puissance installée\\xa0\\xa0\\xa0\\xa0\\xa0\\xa0 \\xa0\\xa0\\xa0\\xa0\\xa0\\xa0\\xa0\\xa0\\xa0\\xa0\\xa0 \\xa0\\xa0\\xa0\\xa0\\xa0\\xa0\\xa0\\xa0 : 30 MW Production électrique annuelle\\xa0\\xa0\\xa0 \\xa0\\xa0\\xa0\\xa0: 92 GWh Localisation\\xa0\\xa0\\xa0\\xa0\\xa0\\xa0\\xa0\\xa0\\xa0\\xa0\\xa0\\xa0\\xa0\\xa0\\xa0\\xa0\\xa0\\xa0\\xa0\\xa0\\xa0\\xa0\\xa0\\xa0\\xa0\\xa0\\xa0\\xa0\\xa0\\xa0\\xa0\\xa0\\xa0\\xa0\\xa0\\xa0\\xa0\\xa0\\xa0\\xa0\\xa0 : Barrage Tamajout/ Province de d'Azilal Postes d'emploi\\xa0\\xa0\\xa0\\xa0\\xa0\\xa0\\xa0\\xa0\\xa0\\xa0\\xa0\\xa0\\xa0\\xa0\\xa0\\xa0\\xa0\\xa0\\xa0\\xa0\\xa0\\xa0\\xa0\\xa0\\xa0\\xa0\\xa0\\xa0\\xa0\\xa0\\xa0\\xa0\\xa0 : 7 emplois directs et 15 emplois indirects Intégration industrielle\\xa0\\xa0\\xa0\\xa0\\xa0\\xa0\\xa0\\xa0\\xa0\\xa0\\xa0\\xa0\\xa0\\xa0\\xa0\\xa0\\xa0\\xa0\\xa0\\xa0\\xa0 : Environ 65-70% CADRE DE DEVELOPPEMENT\\xa0: Par le secteur privé dans le cadre de la loi 13-09 relative aux énergies renouvelables. AVANCEMENT DU PROJET Octroi d'autorisation provisoire en date de 6 février 2018. ETAT D'AVANCEMENT DU PROJET En cours de développement. DATE DE MISE EN SERVICE PRÉVISIONNELLE\\xa0: 2023\"},\n",
       " {'url': 'https://www.mem.gov.ma/Pages/secteur.aspx?e=2&sprj=255',\n",
       "  'text': \"STEP El Menzel 300 MW CADRE DU PROJET Afin d'améliorer l es conditions techniques et économiques d'exploitation des moyens de production et du réseau de transport d'électricité, l'Office National de l'Electricité et de l'Eau Potable a lancé un programme pour déterminer la localisation, l'étude et la réalisation des stations de transfert d'énergie par pompage, qui sont considérées parmi les moyens de production flexibles afin de faire face aux fluctuations de la production électrique d'origine renouvelable. A cet effet, le projet de station d e transfert d'énergie par pompage El Menzel d'une capacité de 300 MW, située dans la province de Sefrou, a été programmé. SPECIFICATIONS ENERGETIQUES : Région : Fés-Menkès Puissance installée\\xa0\\xa0\\xa0\\xa0\\xa0\\xa0\\xa0\\xa0\\xa0\\xa0\\xa0\\xa0\\xa0\\xa0\\xa0\\xa0\\xa0\\xa0\\xa0\\xa0\\xa0\\xa0\\xa0\\xa0\\xa0\\xa0\\xa0\\xa0\\xa0\\xa0\\xa0\\xa0\\xa0\\xa0\\xa0\\xa0\\xa0\\xa0\\xa0\\xa0\\xa0\\xa0\\xa0 : 300 MW Nombre d'unités\\xa0\\xa0\\xa0\\xa0\\xa0\\xa0\\xa0\\xa0\\xa0\\xa0\\xa0\\xa0\\xa0\\xa0\\xa0\\xa0\\xa0\\xa0\\xa0\\xa0\\xa0\\xa0\\xa0\\xa0\\xa0\\xa0\\xa0\\xa0\\xa0\\xa0\\xa0\\xa0\\xa0\\xa0\\xa0\\xa0\\xa0\\xa0\\xa0\\xa0\\xa0\\xa0\\xa0 : deux groupes réversibles (2*150 MW) Production turbinage annuelle \\xa0\\xa0\\xa0\\xa0\\xa0\\xa0\\xa0\\xa0\\xa0\\xa0\\xa0\\xa0\\xa0\\xa0\\xa0\\xa0\\xa0\\xa0\\xa0 : 550 GWh Consommation pompage annuelle \\xa0\\xa0\\xa0\\xa0\\xa0\\xa0\\xa0\\xa0\\xa0\\xa0\\xa0 : 760 GWh CADRE DE DEVELOPPEMENT\\xa0: Par le secteur privé au profit de l'ONEE dans le cadre du contrat EPC. INVESTISSEMENT GLOBAL : Environ 2600 Millions MAD. AVANCEMENT DU PROJET Réalisation des études d'Avant Projet Somaires. Lancement des études détaillées du projet. ETAT D'AVANCEMENT DU PROJET En phase d'étude. DATE DE MISE EN SERVICE PRÉVISIONNEL LE : 2027\"},\n",
       " {'url': 'https://www.mem.gov.ma/Pages/secteur.aspx?e=2&sprj=248',\n",
       "  'text': \"Projet de la microcentrale hydroélectrique Sidi Said 1,98 MW \\u200b CADRE DU PROJET La réalisation du projet de la microcentrale hydroélectrique Sidi Said d'une capacité de 1,98 MW s'inscrit dans le cadre de la loi n°13-09 relative aux énergies renouvelables, telle qu'elle a été modifiée et complétée par la loi n° 58-15. Ce Ministère a accordé une autorisation provisoire à la société Energie J2 Terre pour la mise en œuvre de ce projet. La production d'énergie électrique est destinée aux clients de ladite société. SPECIFICATIONS ENERGETIQUES\\xa0: Région\\xa0\\xa0\\xa0\\xa0\\xa0\\xa0\\xa0\\xa0\\xa0\\xa0\\xa0\\xa0\\xa0\\xa0\\xa0\\xa0\\xa0\\xa0\\xa0\\xa0\\xa0\\xa0 \\xa0\\xa0\\xa0\\xa0\\xa0\\xa0\\xa0\\xa0\\xa0\\xa0\\xa0\\xa0\\xa0\\xa0\\xa0\\xa0\\xa0\\xa0\\xa0\\xa0\\xa0\\xa0\\xa0\\xa0\\xa0\\xa0\\xa0\\xa0: Draâ-Tafilalet Puissance installée\\xa0\\xa0\\xa0\\xa0\\xa0\\xa0 \\xa0\\xa0\\xa0\\xa0\\xa0\\xa0\\xa0\\xa0\\xa0\\xa0\\xa0 \\xa0\\xa0\\xa0\\xa0\\xa0\\xa0\\xa0\\xa0 : 1,98 MW Production électrique annuelle\\xa0\\xa0\\xa0 \\xa0\\xa0\\xa0\\xa0: 7,22 GWh Barrage\\xa0\\xa0\\xa0\\xa0\\xa0\\xa0\\xa0\\xa0\\xa0\\xa0\\xa0\\xa0\\xa0\\xa0\\xa0\\xa0\\xa0\\xa0\\xa0\\xa0 \\xa0\\xa0\\xa0\\xa0\\xa0\\xa0\\xa0\\xa0\\xa0\\xa0\\xa0\\xa0\\xa0\\xa0\\xa0\\xa0\\xa0\\xa0\\xa0\\xa0\\xa0\\xa0\\xa0\\xa0\\xa0\\xa0\\xa0\\xa0: Barrage Hassan II Localisation\\xa0\\xa0\\xa0\\xa0\\xa0\\xa0\\xa0\\xa0\\xa0\\xa0\\xa0\\xa0\\xa0\\xa0\\xa0\\xa0\\xa0\\xa0\\xa0\\xa0\\xa0\\xa0\\xa0\\xa0\\xa0\\xa0\\xa0\\xa0\\xa0\\xa0\\xa0\\xa0\\xa0\\xa0\\xa0\\xa0\\xa0\\xa0\\xa0\\xa0\\xa0 : Commune de Zaida-Midelt Postes d'emploi\\xa0\\xa0\\xa0\\xa0\\xa0\\xa0\\xa0\\xa0\\xa0\\xa0\\xa0\\xa0\\xa0\\xa0\\xa0\\xa0\\xa0\\xa0\\xa0\\xa0\\xa0\\xa0\\xa0\\xa0\\xa0\\xa0\\xa0\\xa0\\xa0\\xa0\\xa0\\xa0\\xa0 : 10 emplois directs Intégration industrielle\\xa0\\xa0\\xa0\\xa0\\xa0\\xa0\\xa0\\xa0\\xa0\\xa0\\xa0\\xa0\\xa0\\xa0\\xa0\\xa0\\xa0\\xa0\\xa0\\xa0\\xa0 : Environ 80% CADRE DE DEVELOPPEMENT\\xa0: Par le secteur privé dans le cadre de la loi 13-09 relative aux énergies renouvelables. AVANCEMENT DU PROJET Octroi d'autorisation provisoire en date de 20 mars 2014. ETAT D'AVANCEMENT DU PROJET En cours de développement. DATE DE MISE EN SERVICE PRÉVISIONNELLE\\xa0: 2021\"},\n",
       " {'url': 'https://www.mem.gov.ma/Pages/secteur.aspx?e=2&sprj=240',\n",
       "  'text': \"Projet de la microcentrale hydroélectrique Hassan II 11,7 MW \\u200b CADRE DU PROJET La réalisation du projet de la microcentrale hydroélectrique Hassan II d'une capacité de 11,7 MW s'inscrit dans le cadre de la loi n°13-09 relative aux énergies renouvelables, telle qu'elle a été modifiée et complétée par la loi n° 58-15. Ce Ministère a accordé une autorisation provisoire à la société Energie J2 Terre pour la mise en œuvre de ce projet. La production d'énergie électrique est destinée aux clients de ladite société. SPECIFICATIONS ENERGETIQUES\\xa0: Région\\xa0\\xa0\\xa0\\xa0\\xa0\\xa0\\xa0\\xa0\\xa0\\xa0\\xa0\\xa0\\xa0\\xa0\\xa0\\xa0\\xa0\\xa0\\xa0\\xa0\\xa0\\xa0 \\xa0\\xa0\\xa0\\xa0\\xa0\\xa0\\xa0\\xa0\\xa0\\xa0\\xa0\\xa0\\xa0\\xa0\\xa0\\xa0\\xa0\\xa0\\xa0\\xa0\\xa0\\xa0\\xa0\\xa0\\xa0\\xa0\\xa0\\xa0: Draâ-Tafilalet Puissance installée\\xa0\\xa0\\xa0\\xa0\\xa0\\xa0 \\xa0\\xa0\\xa0\\xa0\\xa0\\xa0\\xa0\\xa0\\xa0\\xa0\\xa0 \\xa0\\xa0\\xa0\\xa0\\xa0\\xa0\\xa0\\xa0 : 11,7 MW Production électrique annuelle\\xa0\\xa0\\xa0 \\xa0\\xa0\\xa0\\xa0: 17,3 GWh Barrage\\xa0\\xa0\\xa0\\xa0\\xa0\\xa0\\xa0\\xa0\\xa0\\xa0\\xa0\\xa0\\xa0\\xa0\\xa0\\xa0\\xa0\\xa0\\xa0\\xa0 \\xa0\\xa0\\xa0\\xa0\\xa0\\xa0\\xa0\\xa0\\xa0\\xa0\\xa0\\xa0\\xa0\\xa0\\xa0\\xa0\\xa0\\xa0\\xa0\\xa0\\xa0\\xa0\\xa0\\xa0\\xa0\\xa0\\xa0\\xa0: Barrage Hassan II Localisation\\xa0\\xa0\\xa0\\xa0\\xa0\\xa0\\xa0\\xa0\\xa0\\xa0\\xa0\\xa0\\xa0\\xa0\\xa0\\xa0\\xa0\\xa0\\xa0\\xa0\\xa0\\xa0\\xa0\\xa0\\xa0\\xa0\\xa0\\xa0\\xa0\\xa0\\xa0\\xa0\\xa0\\xa0\\xa0\\xa0\\xa0\\xa0\\xa0\\xa0\\xa0 : Barrage Hassan II-Midelt Postes d'emploi\\xa0\\xa0\\xa0\\xa0\\xa0\\xa0\\xa0\\xa0\\xa0\\xa0\\xa0\\xa0\\xa0\\xa0\\xa0\\xa0\\xa0\\xa0\\xa0\\xa0\\xa0\\xa0\\xa0\\xa0\\xa0\\xa0\\xa0\\xa0\\xa0\\xa0 \\xa0\\xa0\\xa0: 10 emplois directs Intégration industrielle\\xa0\\xa0\\xa0\\xa0\\xa0\\xa0\\xa0\\xa0\\xa0\\xa0\\xa0\\xa0\\xa0\\xa0\\xa0\\xa0\\xa0\\xa0\\xa0\\xa0\\xa0 : Environ 80% CADRE DE DEVELOPPEMENT : Par le secteur privé dans le cadre de la loi 13-09 relative aux énergies renouvelables. AVANCEMENT DU PROJET Octroi d'autorisation provisoire en date de 20 mars 2014. ETAT D'AVANCEMENT DU PROJET En cours de développement. DATE DE MISE EN SERVICE PRÉVISIONNELLE\\xa0: 2021\"},\n",
       " {'url': 'https://www.mem.gov.ma/Pages/secteur.aspx?e=2&sprj=239',\n",
       "  'text': \"Projet de la microcentrale hydroélectrique BOUTFERDA 18 MW \\u200b CADRE DU PROJET La réalisation du projet de la microcentrale hydroélectrique Boutferda d'une capacité de 18 MW s'inscrit dans le cadre de la loi n°13-09 relative aux énergies renouvelables, telle qu'elle a été modifiée et complétée par la loi n° 58-15. Ce Ministère a accordé une autorisation provisoire à la société Platinum Power pour la mise en œuvre de ce projet. La production d'énergie électrique est destinée aux clients de ladite société. SPECIFICATIONS ENERGETIQUES\\xa0: Région\\xa0\\xa0\\xa0\\xa0\\xa0\\xa0\\xa0\\xa0\\xa0\\xa0\\xa0\\xa0\\xa0\\xa0\\xa0\\xa0\\xa0\\xa0\\xa0\\xa0\\xa0\\xa0 \\xa0\\xa0\\xa0\\xa0\\xa0\\xa0\\xa0\\xa0\\xa0\\xa0\\xa0\\xa0\\xa0\\xa0\\xa0\\xa0\\xa0\\xa0\\xa0\\xa0\\xa0\\xa0\\xa0\\xa0\\xa0\\xa0\\xa0\\xa0: Beni Mellal-Khénifra Puissance installée\\xa0\\xa0\\xa0\\xa0\\xa0\\xa0 \\xa0\\xa0\\xa0\\xa0\\xa0\\xa0\\xa0\\xa0\\xa0\\xa0\\xa0 \\xa0\\xa0\\xa0\\xa0\\xa0\\xa0\\xa0\\xa0 : 18 MW Production électrique annuelle\\xa0\\xa0\\xa0 \\xa0\\xa0\\xa0\\xa0: 44 GWh Localisation\\xa0\\xa0\\xa0\\xa0\\xa0\\xa0\\xa0\\xa0\\xa0\\xa0\\xa0\\xa0\\xa0\\xa0\\xa0\\xa0\\xa0\\xa0\\xa0\\xa0\\xa0\\xa0\\xa0\\xa0\\xa0\\xa0\\xa0\\xa0\\xa0\\xa0\\xa0\\xa0\\xa0\\xa0\\xa0\\xa0\\xa0\\xa0\\xa0\\xa0\\xa0 : Barrage Boutferda/ Province d'Azilal Postes d'emploi\\xa0\\xa0\\xa0\\xa0\\xa0\\xa0\\xa0\\xa0\\xa0\\xa0\\xa0\\xa0\\xa0\\xa0\\xa0\\xa0\\xa0\\xa0\\xa0\\xa0\\xa0\\xa0\\xa0\\xa0\\xa0\\xa0\\xa0\\xa0\\xa0\\xa0\\xa0\\xa0\\xa0 : 7 emplois directs et 15 emplois indirects Intégration industrielle\\xa0\\xa0\\xa0\\xa0\\xa0\\xa0\\xa0\\xa0\\xa0\\xa0\\xa0\\xa0\\xa0\\xa0\\xa0\\xa0\\xa0\\xa0\\xa0\\xa0\\xa0 : Environ 65-70% CADRE DE DEVELOPPEMENT\\xa0: Par le secteur privé dans le cadre de la loi 13-09 relative aux énergies renouvelables. AVANCEMENT DU PROJET Octroi d'autorisation provisoire en date de 6 février 2018. ETAT D'AVANCEMENT DU PROJET En cours de développement. DATE DE MISE EN SERVICE PRÉVISIONNELLE\\xa0: Février 2023\"}]"
      ]
     },
     "execution_count": 43,
     "metadata": {},
     "output_type": "execute_result"
    }
   ],
   "source": [
    "# Step 5: Display result\n",
    "project_texts   "
   ]
  },
  {
   "cell_type": "code",
   "execution_count": 44,
   "id": "a01c07ee",
   "metadata": {},
   "outputs": [
    {
     "data": {
      "text/plain": [
       "23"
      ]
     },
     "execution_count": 44,
     "metadata": {},
     "output_type": "execute_result"
    }
   ],
   "source": [
    "len(project_texts)"
   ]
  },
  {
   "cell_type": "code",
   "execution_count": 1,
   "id": "1f335d79",
   "metadata": {},
   "outputs": [
    {
     "name": "stdout",
     "output_type": "stream",
     "text": [
      "Collecting deep-translator\n",
      "  Downloading deep_translator-1.11.4-py3-none-any.whl.metadata (30 kB)\n",
      "Requirement already satisfied: beautifulsoup4<5.0.0,>=4.9.1 in c:\\users\\hp\\anaconda3\\lib\\site-packages (from deep-translator) (4.12.3)\n",
      "Requirement already satisfied: requests<3.0.0,>=2.23.0 in c:\\users\\hp\\anaconda3\\lib\\site-packages (from deep-translator) (2.32.3)\n",
      "Requirement already satisfied: soupsieve>1.2 in c:\\users\\hp\\anaconda3\\lib\\site-packages (from beautifulsoup4<5.0.0,>=4.9.1->deep-translator) (2.5)\n",
      "Requirement already satisfied: charset-normalizer<4,>=2 in c:\\users\\hp\\anaconda3\\lib\\site-packages (from requests<3.0.0,>=2.23.0->deep-translator) (3.3.2)\n",
      "Requirement already satisfied: idna<4,>=2.5 in c:\\users\\hp\\anaconda3\\lib\\site-packages (from requests<3.0.0,>=2.23.0->deep-translator) (3.7)\n",
      "Requirement already satisfied: urllib3<3,>=1.21.1 in c:\\users\\hp\\anaconda3\\lib\\site-packages (from requests<3.0.0,>=2.23.0->deep-translator) (2.2.3)\n",
      "Requirement already satisfied: certifi>=2017.4.17 in c:\\users\\hp\\anaconda3\\lib\\site-packages (from requests<3.0.0,>=2.23.0->deep-translator) (2025.4.26)\n",
      "Downloading deep_translator-1.11.4-py3-none-any.whl (42 kB)\n",
      "Installing collected packages: deep-translator\n",
      "Successfully installed deep-translator-1.11.4\n",
      "Note: you may need to restart the kernel to use updated packages.\n"
     ]
    }
   ],
   "source": [
    "%pip install deep-translator"
   ]
  },
  {
   "cell_type": "code",
   "execution_count": null,
   "id": "0216285d",
   "metadata": {},
   "outputs": [],
   "source": [
    "from deep_translator import GoogleTranslator\n",
    "\n",
    "# French text\n",
    "french_text = \"Bonjour, comment allez-vous?\"\n",
    "\n",
    "# Translate to English\n",
    "english_translation = GoogleTranslator(source='fr', target='en').translate(french_text)\n",
    "\n",
    "print(\"Original (French):\", french_text)\n",
    "print(\"Translated (English):\", english_translation)\n"
   ]
  }
 ],
 "metadata": {
  "kernelspec": {
   "display_name": "base",
   "language": "python",
   "name": "python3"
  },
  "language_info": {
   "codemirror_mode": {
    "name": "ipython",
    "version": 3
   },
   "file_extension": ".py",
   "mimetype": "text/x-python",
   "name": "python",
   "nbconvert_exporter": "python",
   "pygments_lexer": "ipython3",
   "version": "3.12.7"
  }
 },
 "nbformat": 4,
 "nbformat_minor": 5
}
