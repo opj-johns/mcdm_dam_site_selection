{
 "cells": [
  {
   "cell_type": "markdown",
   "id": "9dab92d7",
   "metadata": {},
   "source": [
    "## Extracting Dam Data from barrages shape file"
   ]
  },
  {
   "cell_type": "code",
   "execution_count": 1,
   "id": "7c4cc35f",
   "metadata": {},
   "outputs": [],
   "source": [
    "import geopandas as gpd\n",
    "import pandas as pd"
   ]
  },
  {
   "cell_type": "code",
   "execution_count": 99,
   "id": "176ab913",
   "metadata": {},
   "outputs": [],
   "source": [
    "# Load the shapefile\n",
    "shapefile_path = 'C:/Users/HP/OneDrive - Université Mohammed VI Polytechnique/Desktop/UM6P/Internship/The Journey/Data/QGIS/data/dams/barrages.shp'  # Replace with your shapefile pathC:/Users/HP/OneDrive - Université Mohammed VI Polytechnique/Desktop/UM6P/Internship/The Journey/Data/QGIS/data/dams/barrages.shp\n",
    "gdf = gpd.read_file(shapefile_path)"
   ]
  },
  {
   "cell_type": "code",
   "execution_count": 100,
   "id": "3e68d5be",
   "metadata": {},
   "outputs": [],
   "source": [
    "# Ensure geometry is in a geographic coordinate system (e.g., WGS84)\n",
    "gdf = gdf.to_crs(epsg=4326)"
   ]
  },
  {
   "cell_type": "code",
   "execution_count": 97,
   "id": "9bd6195f",
   "metadata": {},
   "outputs": [],
   "source": [
    "gdf['longitude'] = gdf.geometry.x\n",
    "gdf['latitude'] = gdf.geometry.y"
   ]
  },
  {
   "cell_type": "code",
   "execution_count": 98,
   "id": "3a828dc4",
   "metadata": {},
   "outputs": [
    {
     "data": {
      "text/plain": [
       "0      32.570311\n",
       "1      33.142766\n",
       "2      33.507188\n",
       "3      35.245242\n",
       "4      34.041779\n",
       "         ...    \n",
       "130    30.620210\n",
       "131    27.637489\n",
       "132    28.310682\n",
       "133    28.189957\n",
       "134    33.601337\n",
       "Name: latitude, Length: 135, dtype: float64"
      ]
     },
     "execution_count": 98,
     "metadata": {},
     "output_type": "execute_result"
    }
   ],
   "source": [
    "gdf['latitude']"
   ]
  },
  {
   "cell_type": "code",
   "execution_count": 5,
   "id": "a090b036",
   "metadata": {},
   "outputs": [],
   "source": [
    "# Select and rename the desired columns\n",
    "selected_columns = {\n",
    "    'nom_barrag': 'nom_barrag',\n",
    "    'nom_oued': 'nom_oued',\n",
    "    'capacite_i': 'capacite',\n",
    "    'hauteur': 'hauteur',\n",
    "    'annee_mise': 'annee_mise',\n",
    "    'longitude': 'longitude',\n",
    "    'latitude': 'latitude'\n",
    "}"
   ]
  },
  {
   "cell_type": "code",
   "execution_count": null,
   "id": "e8e840e3",
   "metadata": {},
   "outputs": [],
   "source": [
    "# Filter and rename the columns\n",
    "output_df = gdf[list(selected_columns.keys())].rename(columns=selected_columns)"
   ]
  },
  {
   "cell_type": "code",
   "execution_count": 7,
   "id": "8ce0b232",
   "metadata": {},
   "outputs": [],
   "source": [
    "# Export to CSV\n",
    "output_df.to_csv('dams.csv', index=False)"
   ]
  },
  {
   "cell_type": "markdown",
   "id": "8b101b76",
   "metadata": {},
   "source": [
    "## Dam is in which commune?\n",
    "### What is the population of the commune?"
   ]
  },
  {
   "cell_type": "code",
   "execution_count": null,
   "id": "cd7cb19b",
   "metadata": {},
   "outputs": [],
   "source": [
    "import geopandas as gpd"
   ]
  },
  {
   "cell_type": "code",
   "execution_count": 58,
   "id": "a1c73d14",
   "metadata": {},
   "outputs": [],
   "source": [
    "# Load dam and commune shapefiles\n",
    "dams_gdf = gpd.read_file('C:/Users/HP/OneDrive - Université Mohammed VI Polytechnique/Desktop/UM6P/Internship/The Journey/Data/QGIS/data/dams/barrages.shp')\n",
    "communes_gdf = gpd.read_file('C:/Users/HP/OneDrive - Université Mohammed VI Polytechnique/Desktop/UM6P/Internship/The Journey/Data/QGIS/data/Commune_Maroc/populaion_commune.shp')"
   ]
  },
  {
   "cell_type": "code",
   "execution_count": 60,
   "id": "ff419a0f",
   "metadata": {},
   "outputs": [],
   "source": [
    "dams_gdf = dams_gdf.to_crs(epsg=4326)\n",
    "communes_gdf = communes_gdf.to_crs(epsg=4326)"
   ]
  },
  {
   "cell_type": "code",
   "execution_count": 61,
   "id": "badd58a1",
   "metadata": {},
   "outputs": [],
   "source": [
    "# Perform spatial join: assign each dam to the commune it falls within\n",
    "joined = gpd.sjoin(dams_gdf, communes_gdf, how='left', predicate='within')"
   ]
  },
  {
   "cell_type": "code",
   "execution_count": null,
   "id": "f4edaab3",
   "metadata": {},
   "outputs": [],
   "source": [
    "# Extract only required fields  \n",
    "result = joined[['nom_barrag', 'nom', 'Populati_1']]"
   ]
  },
  {
   "cell_type": "code",
   "execution_count": 63,
   "id": "0c944453",
   "metadata": {},
   "outputs": [],
   "source": [
    "# Save to CSV (optional)\n",
    "result.to_csv('dams_with_communes.csv', index=False)"
   ]
  },
  {
   "cell_type": "markdown",
   "id": "a6ef3d71",
   "metadata": {},
   "source": [
    "## Dam to nearest ville"
   ]
  },
  {
   "cell_type": "code",
   "execution_count": 64,
   "id": "397ebf61",
   "metadata": {},
   "outputs": [],
   "source": [
    "import geopandas as gpd\n",
    "from shapely.ops import nearest_points"
   ]
  },
  {
   "cell_type": "code",
   "execution_count": 85,
   "id": "93ce5e42",
   "metadata": {},
   "outputs": [],
   "source": [
    "# Load dam and commune shapefiles\n",
    "dams_gdf = gpd.read_file('C:/Users/HP/OneDrive - Université Mohammed VI Polytechnique/Desktop/UM6P/Internship/The Journey/Data/QGIS/data/dams/barrages.shp')\n",
    "villes_gdf = gpd.read_file('C:/Users/HP/OneDrive - Université Mohammed VI Polytechnique/Desktop/UM6P/Internship/The Journey/Data/QGIS/data/villes/villes/villes.shp')"
   ]
  },
  {
   "cell_type": "code",
   "execution_count": 86,
   "id": "d053a931",
   "metadata": {},
   "outputs": [],
   "source": [
    "# Ensure both are in the same CRS (WGS84 - EPSG:4326 recommended)\n",
    "dams_gdf = dams_gdf.to_crs(epsg=32630)\n",
    "villes_gdf = villes_gdf.to_crs(epsg=32630)"
   ]
  },
  {
   "cell_type": "code",
   "execution_count": 87,
   "id": "c33fd1d9",
   "metadata": {},
   "outputs": [],
   "source": [
    "# Perform spatial join to find the nearest ville to each dam\n",
    "joined = gpd.sjoin_nearest(dams_gdf, villes_gdf, how='left', distance_col='dist_to_ville')"
   ]
  },
  {
   "cell_type": "code",
   "execution_count": 90,
   "id": "7acaf337",
   "metadata": {},
   "outputs": [
    {
     "data": {
      "text/html": [
       "<div>\n",
       "<style scoped>\n",
       "    .dataframe tbody tr th:only-of-type {\n",
       "        vertical-align: middle;\n",
       "    }\n",
       "\n",
       "    .dataframe tbody tr th {\n",
       "        vertical-align: top;\n",
       "    }\n",
       "\n",
       "    .dataframe thead th {\n",
       "        text-align: right;\n",
       "    }\n",
       "</style>\n",
       "<table border=\"1\" class=\"dataframe\">\n",
       "  <thead>\n",
       "    <tr style=\"text-align: right;\">\n",
       "      <th></th>\n",
       "      <th>OBJECTID</th>\n",
       "      <th>objectid_1</th>\n",
       "      <th>nom_barrag</th>\n",
       "      <th>nom_oued</th>\n",
       "      <th>capacite_i</th>\n",
       "      <th>hauteur</th>\n",
       "      <th>annee_mise</th>\n",
       "      <th>id_pays</th>\n",
       "      <th>geometry</th>\n",
       "      <th>index_right</th>\n",
       "      <th>osm_id</th>\n",
       "      <th>code</th>\n",
       "      <th>fclass</th>\n",
       "      <th>population</th>\n",
       "      <th>name</th>\n",
       "      <th>dist_to_ville</th>\n",
       "    </tr>\n",
       "  </thead>\n",
       "  <tbody>\n",
       "    <tr>\n",
       "      <th>0</th>\n",
       "      <td>1</td>\n",
       "      <td>0.0</td>\n",
       "      <td>Kasbat Tadla</td>\n",
       "      <td>Oum Er Rbia</td>\n",
       "      <td>0.1</td>\n",
       "      <td>12.0</td>\n",
       "      <td>1931.0</td>\n",
       "      <td>248.0</td>\n",
       "      <td>POINT (195762.667 3608287.663)</td>\n",
       "      <td>2723</td>\n",
       "      <td>2269742352</td>\n",
       "      <td>1003</td>\n",
       "      <td>village</td>\n",
       "      <td>0</td>\n",
       "      <td>Al Kamoun ⵍⴽⴰⵎⵓⵏ الكامون</td>\n",
       "      <td>3831.555006</td>\n",
       "    </tr>\n",
       "    <tr>\n",
       "      <th>1</th>\n",
       "      <td>2</td>\n",
       "      <td>0.0</td>\n",
       "      <td>Sidi Said Maachou</td>\n",
       "      <td>Oum Er Rbia</td>\n",
       "      <td>2.0</td>\n",
       "      <td>29.0</td>\n",
       "      <td>1929.0</td>\n",
       "      <td>248.0</td>\n",
       "      <td>POINT (23459.818 3678743.772)</td>\n",
       "      <td>2650</td>\n",
       "      <td>2256335539</td>\n",
       "      <td>1003</td>\n",
       "      <td>village</td>\n",
       "      <td>0</td>\n",
       "      <td>Ben Maachou ⴱⵏ ⵎⵄⴰⵛⵓ ابن معاشه</td>\n",
       "      <td>1180.434531</td>\n",
       "    </tr>\n",
       "    <tr>\n",
       "      <th>2</th>\n",
       "      <td>3</td>\n",
       "      <td>0.0</td>\n",
       "      <td>Mellah</td>\n",
       "      <td>Mellah</td>\n",
       "      <td>8.8</td>\n",
       "      <td>33.0</td>\n",
       "      <td>1931.0</td>\n",
       "      <td>248.0</td>\n",
       "      <td>POINT (96765.056 3715956.522)</td>\n",
       "      <td>5297</td>\n",
       "      <td>3540411631</td>\n",
       "      <td>1003</td>\n",
       "      <td>village</td>\n",
       "      <td>0</td>\n",
       "      <td>Ouled Ziyane ⵡⵍⴰⴷ ⵣⵢⵢⴰⵏ أولاد زيان</td>\n",
       "      <td>6397.546990</td>\n",
       "    </tr>\n",
       "    <tr>\n",
       "      <th>3</th>\n",
       "      <td>4</td>\n",
       "      <td>0.0</td>\n",
       "      <td>Ali Thelat</td>\n",
       "      <td>Lao</td>\n",
       "      <td>30.0</td>\n",
       "      <td>36.0</td>\n",
       "      <td>1935.0</td>\n",
       "      <td>248.0</td>\n",
       "      <td>POINT (291552.203 3902645.7)</td>\n",
       "      <td>6200</td>\n",
       "      <td>9621657649</td>\n",
       "      <td>1003</td>\n",
       "      <td>village</td>\n",
       "      <td>0</td>\n",
       "      <td>Cherouta</td>\n",
       "      <td>4455.987302</td>\n",
       "    </tr>\n",
       "    <tr>\n",
       "      <th>4</th>\n",
       "      <td>5</td>\n",
       "      <td>0.0</td>\n",
       "      <td>El Kansra</td>\n",
       "      <td>Beht</td>\n",
       "      <td>266.0</td>\n",
       "      <td>68.0</td>\n",
       "      <td>1935.0</td>\n",
       "      <td>248.0</td>\n",
       "      <td>POINT (231563.411 3770603.407)</td>\n",
       "      <td>965</td>\n",
       "      <td>1868853436</td>\n",
       "      <td>1003</td>\n",
       "      <td>village</td>\n",
       "      <td>0</td>\n",
       "      <td>El-Kansera du Beht ⵇⴰⵏⵚⵕⴰ القنصرة</td>\n",
       "      <td>1803.187914</td>\n",
       "    </tr>\n",
       "  </tbody>\n",
       "</table>\n",
       "</div>"
      ],
      "text/plain": [
       "   OBJECTID  objectid_1         nom_barrag     nom_oued  capacite_i  hauteur  \\\n",
       "0         1         0.0       Kasbat Tadla  Oum Er Rbia         0.1     12.0   \n",
       "1         2         0.0  Sidi Said Maachou  Oum Er Rbia         2.0     29.0   \n",
       "2         3         0.0             Mellah       Mellah         8.8     33.0   \n",
       "3         4         0.0         Ali Thelat          Lao        30.0     36.0   \n",
       "4         5         0.0          El Kansra         Beht       266.0     68.0   \n",
       "\n",
       "   annee_mise  id_pays                        geometry  index_right  \\\n",
       "0      1931.0    248.0  POINT (195762.667 3608287.663)         2723   \n",
       "1      1929.0    248.0   POINT (23459.818 3678743.772)         2650   \n",
       "2      1931.0    248.0   POINT (96765.056 3715956.522)         5297   \n",
       "3      1935.0    248.0    POINT (291552.203 3902645.7)         6200   \n",
       "4      1935.0    248.0  POINT (231563.411 3770603.407)          965   \n",
       "\n",
       "       osm_id  code   fclass  population                                name  \\\n",
       "0  2269742352  1003  village           0            Al Kamoun ⵍⴽⴰⵎⵓⵏ الكامون   \n",
       "1  2256335539  1003  village           0      Ben Maachou ⴱⵏ ⵎⵄⴰⵛⵓ ابن معاشه   \n",
       "2  3540411631  1003  village           0  Ouled Ziyane ⵡⵍⴰⴷ ⵣⵢⵢⴰⵏ أولاد زيان   \n",
       "3  9621657649  1003  village           0                            Cherouta   \n",
       "4  1868853436  1003  village           0   El-Kansera du Beht ⵇⴰⵏⵚⵕⴰ القنصرة   \n",
       "\n",
       "   dist_to_ville  \n",
       "0    3831.555006  \n",
       "1    1180.434531  \n",
       "2    6397.546990  \n",
       "3    4455.987302  \n",
       "4    1803.187914  "
      ]
     },
     "execution_count": 90,
     "metadata": {},
     "output_type": "execute_result"
    }
   ],
   "source": [
    "joined.head()"
   ]
  },
  {
   "cell_type": "code",
   "execution_count": 93,
   "id": "bc6f0495",
   "metadata": {},
   "outputs": [],
   "source": [
    "# Extract desired columns\n",
    "result = joined[['nom_barrag', 'name', 'population', \"dist_to_ville\"]]\n",
    "\n"
   ]
  },
  {
   "cell_type": "code",
   "execution_count": 94,
   "id": "42f8044b",
   "metadata": {},
   "outputs": [],
   "source": [
    "# Optional: save to CSV\n",
    "result.to_csv('dams_nearest_villes.csv', index=False)"
   ]
  },
  {
   "cell_type": "code",
   "execution_count": null,
   "id": "61e28b02",
   "metadata": {},
   "outputs": [],
   "source": [
    "# Display the result (optional)\n",
    "print(result.head())"
   ]
  }
 ],
 "metadata": {
  "kernelspec": {
   "display_name": "Python 3",
   "language": "python",
   "name": "python3"
  },
  "language_info": {
   "codemirror_mode": {
    "name": "ipython",
    "version": 3
   },
   "file_extension": ".py",
   "mimetype": "text/x-python",
   "name": "python",
   "nbconvert_exporter": "python",
   "pygments_lexer": "ipython3",
   "version": "3.11.9"
  }
 },
 "nbformat": 4,
 "nbformat_minor": 5
}
